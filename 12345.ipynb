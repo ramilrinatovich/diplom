{
 "cells": [
  {
   "cell_type": "code",
   "execution_count": 1,
   "metadata": {
    "collapsed": true
   },
   "outputs": [
    {
     "name": "stderr",
     "output_type": "stream",
     "text": [
      "UsageError: Line magic function `%` not found.\n"
     ]
    }
   ],
   "source": [
    "#Импорт необходимых библиотек\n",
    "import tensorflow as tf\n",
    "from tensorflow import keras\n",
    "from keras.datasets import mnist\n",
    "from keras import layers as layers\n",
    "from keras.utils import plot_model\n",
    "from keras import Sequential\n",
    "from keras.optimizers import Adam\n",
    "# библиотека для вывода изображений\n",
    "from matplotlib import pyplot as plt\n",
    "% matplotlib inline\n",
    "# загружаем тренировочные и тестовые данные\n",
    "(X_train, y_train), (X_test, y_test) = mnist.load_data()\n",
    "# Узнаем длины полученных массивов\n",
    "print(len(X_train), len(y_train), len(X_test), len(y_test))\n",
    "# Проверка типа и размера данных\n",
    "print(X_train[0].shape, X_train[0].dtype)\n",
    "# Выведем первый элемент массива на экран\n",
    "print(X_train[0])\n",
    "print(y_train[0])\n",
    "# Выведем на экран хранящееся в X_train[0] изображение\n",
    "plt.imshow(X_train[0], cmap='binary')\n",
    "plt.axis('off')\n",
    "# Преобразование данных в матрицах изображений\n",
    "# X_train.max() возвращает значение 255\n",
    "X_train = X_train / X_train.max()\n",
    "X_test = X_test / X_test.max()\n",
    "\n",
    "# Преобразуем целевые значения методом «one-hot encoding»\n",
    "y_train = keras.utils.to_categorical(y_train, 10)\n",
    "y_test = keras.utils.to_categorical(y_test, 10)\n",
    "# Создаем модель\n",
    "model = Sequential([\n",
    "    # Добавляем полносвязный слой с 128 узлами к модели:\n",
    "    layers.Dense(128, name=\"Dense_1\", activation='relu', input_shape=X_train[0].shape),\n",
    "    # Добавляем еще один полносвязный слой с 128 узлами к модели:\n",
    "    layers.Dense(128, name=\"Dense_2\", activation='relu'),\n",
    "    layers.Flatten(),\n",
    "    # Добавляем выходной слой к модели.\n",
    "    layers.Dense(10, name=\"Dense_3\", activation='softmax')\n",
    "])\n",
    "# Выведем полученную модель на экран\n",
    "model.summary()\n",
    "#Указываем конфигурацию обучения (вид оптимизатора, потери, метрики):\n",
    "model.compile(loss='binary_crossentropy',\n",
    "              optimizer=Adam(lr=0.00024),\n",
    "              metrics=['binary_accuracy'])\n",
    "# Функция ранней остановки\n",
    "stop = tf.keras.callbacks.EarlyStopping(monitor='val_loss', verbose=1, patience=6)\n",
    "# Запускаем обучение модели (разбивая данные на «партии» размером batch_size, задаем количество эпох, долю данных для проверки 0.2 - 20% от всего массива.)\n",
    "history = model.fit(X_train, y_train, batch_size=500, verbose=1,\n",
    "                    epochs=4, validation_split=0.2, callbacks=[stop])\n",
    "# Предсказываем результат для тестовой выборки\n",
    "pred = model.predict(X_test)\n",
    "print(pred[0])\n",
    "plt.imshow(X_test[4], cmap='binary')\n",
    "plt.axis('off')\n",
    "# plot graph\n",
    "plot_model(model, to_file='multiple_outputs.png')\n"
   ]
  },
  {
   "cell_type": "code",
   "execution_count": null,
   "outputs": [],
   "source": [],
   "metadata": {
    "collapsed": false
   }
  }
 ],
 "metadata": {
  "kernelspec": {
   "display_name": "Python 3",
   "language": "python",
   "name": "python3"
  },
  "language_info": {
   "codemirror_mode": {
    "name": "ipython",
    "version": 2
   },
   "file_extension": ".py",
   "mimetype": "text/x-python",
   "name": "python",
   "nbconvert_exporter": "python",
   "pygments_lexer": "ipython2",
   "version": "2.7.6"
  }
 },
 "nbformat": 4,
 "nbformat_minor": 0
}
