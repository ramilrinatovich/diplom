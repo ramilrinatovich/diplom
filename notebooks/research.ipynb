{
 "cells": [
  {
   "cell_type": "markdown",
   "id": "c9eac0cb",
   "metadata": {
    "id": "c9eac0cb"
   },
   "source": [
    "# Выпускная квалификационная работа по курсу «Data Science»"
   ]
  },
  {
   "cell_type": "markdown",
   "id": "310f82c1",
   "metadata": {
    "id": "310f82c1"
   },
   "source": [
    "В ходе выполнения ВКР требуется сделать:\n",
    "* Изучить теоретические основы и методы решения поставленной задачи.\n",
    "* Провести разведочный анализ предложенных данных. Необходимо нарисовать гистограммы распределения каждой из переменной, диаграммы ящика с усами, попарные графики рассеяния точек. Необходимо также для каждой колонке получить среднее, медианное значение, провести анализ и исключение выбросов, проверить наличие пропусков.\n",
    "* Провести предобработку данных (удаление шумов, нормализация и т.д.).\n",
    "* Обучить нескольких моделей для прогноза модуля упругости при растяжении и прочности при растяжении. При построении модели необходимо 30% данных оставить на тестирование модели, на остальных происходит обучение моделей. При построении моделей провести поиск гиперпараметров модели с помощью поиска по сетке с перекрестной проверкой, количество блоков равно 10.\n",
    "* Написать нейронную сеть, которая будет рекомендовать соотношение матрица-наполнитель. \n",
    "* Разработать приложение с графическим интерфейсом или интерфейсом командной строки, которое будет выдавать прогноз, полученный в задании 4 или 5 (один или два прогноза, на выбор учащегося).\n",
    "* Оценить точность модели на тренировочном и тестовом датасете. \n",
    "* Создать репозиторий в GitHub / GitLab и разместить там код исследования. Оформить файл README."
   ]
  },
  {
   "cell_type": "markdown",
   "id": "c3d6a5d4",
   "metadata": {
    "id": "c3d6a5d4"
   },
   "source": [
    "## Изучить теоретические основы и методы решения поставленной задачи"
   ]
  },
  {
   "cell_type": "markdown",
   "id": "f1a9b4c0",
   "metadata": {
    "id": "f1a9b4c0"
   },
   "source": [
    "Имеется следующая информация по теоретическим основам поставленной задачи:"
   ]
  },
  {
   "cell_type": "markdown",
   "id": "502078fd",
   "metadata": {
    "id": "502078fd"
   },
   "source": [
    "> Тема: Прогнозирование конечных свойств новых материалов (композиционных материалов).\n",
    "> \n",
    "> Описание: \n",
    "> Композиционные материалы — это искусственно созданные материалы, состоящие из нескольких других с четкой границей между ними. \n",
    "> \n",
    "> При этом композиты являются монолитным материалом, т. е. компоненты материала неотделимы друг от друга без разрушения конструкции в целом. \n",
    "> \n",
    "> Их свойства определяются входящими в них компонентами, но отличаются от свойств компонентов, взятых в отдельности.\n",
    "> \n",
    "> Композиционные материалы состоят из матрицы (основы) и наполнителя.\n",
    "> \n",
    "> Матрица связывает композицию и в большей степени определяет технологические режимы получения материала и его эксплуатационные характеристики: рабочую температуру, плотность, удельную прочность, предел усталости.\n",
    "> \n",
    "> Наполнитель, как правило, имеет высокие значения прочности, твердости и модуля упругости — значительно большие, чем показатели матрицы. Поэтому наполнитель является армирующим или упрочняющим элементом.\n",
    "> \n",
    "> Композиты обладают теми свойствами, которые не наблюдаются у компонентов по отдельности. \n",
    "> \n",
    "> Даже если мы знаем характеристики исходных компонентов, определить характеристики композита, состоящего из этих компонентов, достаточно проблематично. Для решения этой проблемы есть два пути: физические испытания образцов материалов, или прогнозирование характеристик. Суть прогнозирования заключается в симуляции представительного элемента объема композита, на основе данных о характеристиках входящих компонентов (связующего и армирующего компонента). Созданные прогнозные модели помогут сократить количество проводимых испытаний, а также пополнить базу данных материалов возможными новыми характеристиками материалов, и цифровыми двойниками новых композитов.\n",
    "> \n",
    "> Кейс основан на реальных производственных задачах Центра НТИ «Цифровое материаловедение: новые материалы и вещества» (структурное подразделение МГТУ им. Н.Э. Баумана)."
   ]
  },
  {
   "cell_type": "markdown",
   "id": "000b4ea8",
   "metadata": {
    "id": "000b4ea8"
   },
   "source": [
    "## Провести разведочный анализ предложенных данных\n",
    "\n",
    "В этом разделе необходимо:\n",
    "* нарисовать гистограммы распределения каждой из переменной; \n",
    "* диаграммы ящика с усами;\n",
    "* попарные графики рассеяния точек;\n",
    "* для каждой колонке получить среднее, медианное значение;\n",
    "* провести анализ и исключение выбросов;\n",
    "* проверить наличие пропусков."
   ]
  },
  {
   "cell_type": "markdown",
   "id": "601de8bd",
   "metadata": {
    "id": "601de8bd"
   },
   "source": [
    "> Имеется датасет со свойствами композита. Рассматривается базальтопластик с нашивками из углепластика.\n",
    ">\n",
    "> На входе имеются данные о начальных свойствах компонентов композиционных материалов (количество связующего, наполнителя, температурный режим отверждения и т.д.). \n",
    ">\n",
    "> На выходе необходимо спрогнозировать ряд конечных свойств получаемых композиционных материалов.\n",
    ">\n",
    "> Датасет состоит из двух файлов - X_bp (составляющая из базальтопластика) и Х_nup (составляющая из углепластика). Дано, что объединение делать по индексу тип объединения INNER."
   ]
  },
  {
   "cell_type": "code",
   "execution_count": 17,
   "id": "GHiIGmnlsfBF",
   "metadata": {
    "colab": {
     "base_uri": "https://localhost:8080/"
    },
    "id": "GHiIGmnlsfBF",
    "outputId": "a0947dfa-62b6-4257-a798-d0398e0e139e"
   },
   "outputs": [],
   "source": [
    "# Подключаю доступ к файлам данных для гугл драйв\n",
    "# from google.colab import drive\n",
    "# drive.mount('/content/drive/')"
   ]
  },
  {
   "cell_type": "code",
   "execution_count": 18,
   "id": "OTFwufosKnD2",
   "metadata": {
    "id": "OTFwufosKnD2"
   },
   "outputs": [],
   "source": [
    "# Пути для гугл драйв\n",
    "# nb_path = '/content/drive/MyDrive/Colab Notebooks/'\n",
    "# data_path = '/content/drive/MyDrive/Colab Notebooks/data/'\n",
    "# models_path = '/content/drive/MyDrive/Colab Notebooks/models/'"
   ]
  },
  {
   "cell_type": "code",
   "execution_count": 19,
   "id": "DAmqiW9m2Ib9",
   "metadata": {
    "id": "DAmqiW9m2Ib9"
   },
   "outputs": [],
   "source": [
    "# Пути для локального запуска\n",
    "nb_path = ''\n",
    "data_path = '../data/'\n",
    "models_path = '../models/'"
   ]
  },
  {
   "cell_type": "code",
   "execution_count": 23,
   "id": "da3be3df",
   "metadata": {
    "id": "da3be3df"
   },
   "outputs": [],
   "source": [
    "# Импортирую необходимые библиотеки\n",
    "import numpy as np\n",
    "import pandas as pd\n",
    "import matplotlib.pyplot as plt\n",
    "import seaborn as sns\n",
    "from sklearn.preprocessing import OrdinalEncoder\n",
    "from sklearn.preprocessing import StandardScaler\n",
    "from sklearn.compose import ColumnTransformer\n",
    "from sklearn.model_selection import train_test_split\n",
    "from sklearn.model_selection import KFold\n",
    "from sklearn.model_selection import cross_val_score, cross_validate\n",
    "from sklearn.model_selection import GridSearchCV\n",
    "from sklearn.base import BaseEstimator\n",
    "from sklearn.dummy import DummyRegressor\n",
    "from sklearn.linear_model import LinearRegression\n",
    "from sklearn.linear_model import Ridge\n",
    "from sklearn.linear_model import Lasso\n",
    "from sklearn.svm import SVR\n",
    "from sklearn.neighbors import KNeighborsRegressor\n",
    "from sklearn.tree import DecisionTreeRegressor\n",
    "from sklearn.ensemble import RandomForestRegressor\n",
    "from sklearn.ensemble import GradientBoostingRegressor\n",
    "from sklearn import metrics\n",
    "import pickle"
   ]
  },
  {
   "cell_type": "code",
   "execution_count": 22,
   "id": "0BpGzaYTRdIa",
   "metadata": {
    "colab": {
     "base_uri": "https://localhost:8080/"
    },
    "id": "0BpGzaYTRdIa",
    "outputId": "e20197dd-7d18-4e00-c9b2-7b1c8e717352"
   },
   "outputs": [
    {
     "ename": "ModuleNotFoundError",
     "evalue": "No module named 'tensorflow'",
     "output_type": "error",
     "traceback": [
      "\u001B[1;31m---------------------------------------------------------------------------\u001B[0m",
      "\u001B[1;31mModuleNotFoundError\u001B[0m                       Traceback (most recent call last)",
      "\u001B[1;32m~\\AppData\\Local\\Temp\\ipykernel_8076\\1379216194.py\u001B[0m in \u001B[0;36m<module>\u001B[1;34m\u001B[0m\n\u001B[0;32m      1\u001B[0m \u001B[1;31m# Импорт библиотеки TensorFlow\u001B[0m\u001B[1;33m\u001B[0m\u001B[1;33m\u001B[0m\u001B[0m\n\u001B[1;32m----> 2\u001B[1;33m \u001B[1;32mimport\u001B[0m \u001B[0mtensorflow\u001B[0m \u001B[1;32mas\u001B[0m \u001B[0mtf\u001B[0m\u001B[1;33m\u001B[0m\u001B[1;33m\u001B[0m\u001B[0m\n\u001B[0m\u001B[0;32m      3\u001B[0m \u001B[1;32mfrom\u001B[0m \u001B[0mtensorflow\u001B[0m \u001B[1;32mimport\u001B[0m \u001B[0mkeras\u001B[0m\u001B[1;33m\u001B[0m\u001B[1;33m\u001B[0m\u001B[0m\n\u001B[0;32m      4\u001B[0m \u001B[0mprint\u001B[0m\u001B[1;33m(\u001B[0m\u001B[0mtf\u001B[0m\u001B[1;33m.\u001B[0m\u001B[0m__version__\u001B[0m\u001B[1;33m)\u001B[0m\u001B[1;33m\u001B[0m\u001B[1;33m\u001B[0m\u001B[0m\n",
      "\u001B[1;31mModuleNotFoundError\u001B[0m: No module named 'tensorflow'"
     ]
    }
   ],
   "source": [
    "# Импорт библиотеки TensorFlow\n",
    "import tensorflow as tf\n",
    "from tensorflow import keras\n",
    "print(tf.__version__)"
   ]
  },
  {
   "cell_type": "code",
   "execution_count": 24,
   "id": "2d88920d",
   "metadata": {
    "id": "2d88920d"
   },
   "outputs": [],
   "source": [
    "# Определяю RANDOM_STATE для повторяемости результатов\n",
    "RANDOM_STATE = 3128"
   ]
  },
  {
   "cell_type": "code",
   "execution_count": 25,
   "id": "9fa5a77c",
   "metadata": {
    "colab": {
     "base_uri": "https://localhost:8080/"
    },
    "id": "9fa5a77c",
    "outputId": "ff07a1e3-0c49-4604-ae29-b96fbae1aa03"
   },
   "outputs": [
    {
     "data": {
      "text/plain": "(1023, 10)"
     },
     "execution_count": 25,
     "metadata": {},
     "output_type": "execute_result"
    }
   ],
   "source": [
    "# Загружаю исходные данные из файла X_bp\n",
    "X_bp = pd.read_excel(data_path + 'X_bp.xlsx', index_col=0)\n",
    "X_bp.shape"
   ]
  },
  {
   "cell_type": "code",
   "execution_count": 26,
   "id": "4d704368",
   "metadata": {
    "colab": {
     "base_uri": "https://localhost:8080/"
    },
    "id": "4d704368",
    "outputId": "4e01f2e7-dfc8-4233-dce0-8f4bb668d442"
   },
   "outputs": [
    {
     "data": {
      "text/plain": "(1040, 3)"
     },
     "execution_count": 26,
     "metadata": {},
     "output_type": "execute_result"
    }
   ],
   "source": [
    "# Загружаю исходные данные из файла X_nup\n",
    "X_nup = pd.read_excel(data_path + 'X_nup.xlsx', index_col=0)\n",
    "X_nup.shape"
   ]
  },
  {
   "cell_type": "markdown",
   "id": "vlnCU_55dN3y",
   "metadata": {
    "id": "vlnCU_55dN3y"
   },
   "source": [
    "X_bp содержит индекс + 10 признаков и 1023 строк.\n",
    "\n",
    "X_nup содержит индекс + 3 признака и 1040 строк"
   ]
  },
  {
   "cell_type": "markdown",
   "id": "2AJLXB-Xd579",
   "metadata": {
    "id": "2AJLXB-Xd579"
   },
   "source": [
    "Посмотрим список признаков составляющих из базальтопластика:"
   ]
  },
  {
   "cell_type": "code",
   "execution_count": 27,
   "id": "9297e5e8",
   "metadata": {
    "colab": {
     "base_uri": "https://localhost:8080/",
     "height": 363
    },
    "id": "9297e5e8",
    "outputId": "9bd51b4e-43ef-4fe5-fca5-2b4c8bb7733a"
   },
   "outputs": [
    {
     "data": {
      "text/plain": "                          X_bp признаки\n0       Соотношение матрица-наполнитель\n1                      Плотность, кг/м3\n2                 модуль упругости, ГПа\n3           Количество отвердителя, м.%\n4       Содержание эпоксидных групп,%_2\n5              Температура вспышки, С_2\n6         Поверхностная плотность, г/м2\n7  Модуль упругости при растяжении, ГПа\n8         Прочность при растяжении, МПа\n9               Потребление смолы, г/м2",
      "text/html": "<div>\n<style scoped>\n    .dataframe tbody tr th:only-of-type {\n        vertical-align: middle;\n    }\n\n    .dataframe tbody tr th {\n        vertical-align: top;\n    }\n\n    .dataframe thead th {\n        text-align: right;\n    }\n</style>\n<table border=\"1\" class=\"dataframe\">\n  <thead>\n    <tr style=\"text-align: right;\">\n      <th></th>\n      <th>X_bp признаки</th>\n    </tr>\n  </thead>\n  <tbody>\n    <tr>\n      <th>0</th>\n      <td>Соотношение матрица-наполнитель</td>\n    </tr>\n    <tr>\n      <th>1</th>\n      <td>Плотность, кг/м3</td>\n    </tr>\n    <tr>\n      <th>2</th>\n      <td>модуль упругости, ГПа</td>\n    </tr>\n    <tr>\n      <th>3</th>\n      <td>Количество отвердителя, м.%</td>\n    </tr>\n    <tr>\n      <th>4</th>\n      <td>Содержание эпоксидных групп,%_2</td>\n    </tr>\n    <tr>\n      <th>5</th>\n      <td>Температура вспышки, С_2</td>\n    </tr>\n    <tr>\n      <th>6</th>\n      <td>Поверхностная плотность, г/м2</td>\n    </tr>\n    <tr>\n      <th>7</th>\n      <td>Модуль упругости при растяжении, ГПа</td>\n    </tr>\n    <tr>\n      <th>8</th>\n      <td>Прочность при растяжении, МПа</td>\n    </tr>\n    <tr>\n      <th>9</th>\n      <td>Потребление смолы, г/м2</td>\n    </tr>\n  </tbody>\n</table>\n</div>"
     },
     "execution_count": 27,
     "metadata": {},
     "output_type": "execute_result"
    }
   ],
   "source": [
    "pd.DataFrame(X_bp.columns, columns=['X_bp признаки'])"
   ]
  },
  {
   "cell_type": "markdown",
   "source": [
    "Посмотрим список признаков составляющих из углепластика:"
   ],
   "metadata": {
    "collapsed": false
   }
  },
  {
   "cell_type": "code",
   "execution_count": 28,
   "id": "a2623579",
   "metadata": {
    "colab": {
     "base_uri": "https://localhost:8080/",
     "height": 143
    },
    "id": "a2623579",
    "outputId": "99562096-66c2-4b44-f923-9346f1425585"
   },
   "outputs": [
    {
     "data": {
      "text/plain": "       X_nup признаки\n0  Угол нашивки, град\n1         Шаг нашивки\n2   Плотность нашивки",
      "text/html": "<div>\n<style scoped>\n    .dataframe tbody tr th:only-of-type {\n        vertical-align: middle;\n    }\n\n    .dataframe tbody tr th {\n        vertical-align: top;\n    }\n\n    .dataframe thead th {\n        text-align: right;\n    }\n</style>\n<table border=\"1\" class=\"dataframe\">\n  <thead>\n    <tr style=\"text-align: right;\">\n      <th></th>\n      <th>X_nup признаки</th>\n    </tr>\n  </thead>\n  <tbody>\n    <tr>\n      <th>0</th>\n      <td>Угол нашивки, град</td>\n    </tr>\n    <tr>\n      <th>1</th>\n      <td>Шаг нашивки</td>\n    </tr>\n    <tr>\n      <th>2</th>\n      <td>Плотность нашивки</td>\n    </tr>\n  </tbody>\n</table>\n</div>"
     },
     "execution_count": 28,
     "metadata": {},
     "output_type": "execute_result"
    }
   ],
   "source": [
    "pd.DataFrame(X_nup.columns, columns=['X_nup признаки'])"
   ]
  },
  {
   "cell_type": "markdown",
   "id": "mXhWwNTleGOP",
   "metadata": {
    "id": "mXhWwNTleGOP"
   },
   "source": [
    "Необходимо сделать датасет как единый набор данных, объединяя с типом INNER."
   ]
  },
  {
   "cell_type": "code",
   "execution_count": 29,
   "id": "66a1d67c",
   "metadata": {
    "colab": {
     "base_uri": "https://localhost:8080/"
    },
    "id": "66a1d67c",
    "outputId": "39d7e479-1c99-48e9-da77-96e212fae29e"
   },
   "outputs": [
    {
     "data": {
      "text/plain": "(1023, 13)"
     },
     "execution_count": 29,
     "metadata": {},
     "output_type": "execute_result"
    }
   ],
   "source": [
    "# Объединяю датасеты\n",
    "df = X_bp.join(X_nup, how='inner')\n",
    "df.shape"
   ]
  },
  {
   "cell_type": "markdown",
   "id": "ItL87RGledAl",
   "metadata": {
    "id": "ItL87RGledAl"
   },
   "source": [
    "В датасете теперь 1023 строки, остальные строки из таблицы X_nup были отброшены."
   ]
  },
  {
   "cell_type": "code",
   "execution_count": 31,
   "id": "z-ppZrHuepsb",
   "metadata": {
    "id": "z-ppZrHuepsb"
   },
   "outputs": [],
   "source": [
    "# Сохраню объединенные данные\n",
    "df.to_excel(data_path + 'data_common.xlsx')"
   ]
  },
  {
   "cell_type": "code",
   "execution_count": 33,
   "id": "24859a40",
   "metadata": {
    "colab": {
     "base_uri": "https://localhost:8080/"
    },
    "id": "24859a40",
    "outputId": "c5d99fae-151c-437b-db18-89daa4609701"
   },
   "outputs": [
    {
     "name": "stdout",
     "output_type": "stream",
     "text": [
      "<class 'pandas.core.frame.DataFrame'>\n",
      "Int64Index: 1023 entries, 0 to 1022\n",
      "Data columns (total 13 columns):\n",
      " #   Column                                Non-Null Count  Dtype  \n",
      "---  ------                                --------------  -----  \n",
      " 0   Соотношение матрица-наполнитель       1023 non-null   float64\n",
      " 1   Плотность, кг/м3                      1023 non-null   float64\n",
      " 2   модуль упругости, ГПа                 1023 non-null   float64\n",
      " 3   Количество отвердителя, м.%           1023 non-null   float64\n",
      " 4   Содержание эпоксидных групп,%_2       1023 non-null   float64\n",
      " 5   Температура вспышки, С_2              1023 non-null   float64\n",
      " 6   Поверхностная плотность, г/м2         1023 non-null   float64\n",
      " 7   Модуль упругости при растяжении, ГПа  1023 non-null   float64\n",
      " 8   Прочность при растяжении, МПа         1023 non-null   float64\n",
      " 9   Потребление смолы, г/м2               1023 non-null   float64\n",
      " 10  Угол нашивки, град                    1023 non-null   int64  \n",
      " 11  Шаг нашивки                           1023 non-null   float64\n",
      " 12  Плотность нашивки                     1023 non-null   float64\n",
      "dtypes: float64(12), int64(1)\n",
      "memory usage: 111.9 KB\n"
     ]
    }
   ],
   "source": [
    "# Выведем информацию о типах данных\n",
    "df.info()"
   ]
  },
  {
   "cell_type": "markdown",
   "id": "YJ9kdN4Ee368",
   "metadata": {
    "id": "YJ9kdN4Ee368"
   },
   "source": [
    "Все признаки имеют тип float64, признаков с типом \"object\" отсутствуют - значит нет строковых значений вместо чисел."
   ]
  },
  {
   "cell_type": "code",
   "execution_count": 34,
   "id": "8e3bec8c",
   "metadata": {
    "colab": {
     "base_uri": "https://localhost:8080/"
    },
    "id": "8e3bec8c",
    "outputId": "2dfcd42d-d24d-4162-a1f1-89e7fc9489b2"
   },
   "outputs": [
    {
     "data": {
      "text/plain": "Соотношение матрица-наполнитель         0\nПлотность, кг/м3                        0\nмодуль упругости, ГПа                   0\nКоличество отвердителя, м.%             0\nСодержание эпоксидных групп,%_2         0\nТемпература вспышки, С_2                0\nПоверхностная плотность, г/м2           0\nМодуль упругости при растяжении, ГПа    0\nПрочность при растяжении, МПа           0\nПотребление смолы, г/м2                 0\nУгол нашивки, град                      0\nШаг нашивки                             0\nПлотность нашивки                       0\ndtype: int64"
     },
     "execution_count": 34,
     "metadata": {},
     "output_type": "execute_result"
    }
   ],
   "source": [
    "# Проверю на пропуски\n",
    "df.isnull().sum()"
   ]
  },
  {
   "cell_type": "markdown",
   "id": "aMB9Hym2fLkS",
   "metadata": {
    "id": "aMB9Hym2fLkS"
   },
   "source": [
    "Без пропусков.\n"
   ]
  },
  {
   "cell_type": "code",
   "execution_count": 35,
   "id": "gZOvoAcKL8P_",
   "metadata": {
    "colab": {
     "base_uri": "https://localhost:8080/"
    },
    "id": "gZOvoAcKL8P_",
    "outputId": "fa6a8df3-fba0-440b-cd30-b0741ed68159"
   },
   "outputs": [
    {
     "data": {
      "text/plain": "Соотношение матрица-наполнитель         1014\nПлотность, кг/м3                        1013\nмодуль упругости, ГПа                   1020\nКоличество отвердителя, м.%             1005\nСодержание эпоксидных групп,%_2         1004\nТемпература вспышки, С_2                1003\nПоверхностная плотность, г/м2           1004\nМодуль упругости при растяжении, ГПа    1004\nПрочность при растяжении, МПа           1004\nПотребление смолы, г/м2                 1003\nУгол нашивки, град                         2\nШаг нашивки                              989\nПлотность нашивки                        988\ndtype: int64"
     },
     "execution_count": 35,
     "metadata": {},
     "output_type": "execute_result"
    }
   ],
   "source": [
    "# Количество уникальных значений в каждом столбце\n",
    "df.nunique()"
   ]
  },
  {
   "cell_type": "code",
   "execution_count": 38,
   "id": "f0551b10",
   "metadata": {
    "colab": {
     "base_uri": "https://localhost:8080/",
     "height": 457
    },
    "id": "f0551b10",
    "outputId": "d1e59f4e-734a-4f1b-d75a-a96d53f30886"
   },
   "outputs": [
    {
     "data": {
      "text/plain": "<pandas.io.formats.style.Styler at 0x2cd021d8400>",
      "text/html": "<style type=\"text/css\">\n</style>\n<table id=\"T_5c4b9\">\n  <thead>\n    <tr>\n      <th class=\"blank level0\" >&nbsp;</th>\n      <th id=\"T_5c4b9_level0_col0\" class=\"col_heading level0 col0\" >count</th>\n      <th id=\"T_5c4b9_level0_col1\" class=\"col_heading level0 col1\" >mean</th>\n      <th id=\"T_5c4b9_level0_col2\" class=\"col_heading level0 col2\" >std</th>\n      <th id=\"T_5c4b9_level0_col3\" class=\"col_heading level0 col3\" >min</th>\n      <th id=\"T_5c4b9_level0_col4\" class=\"col_heading level0 col4\" >25%</th>\n      <th id=\"T_5c4b9_level0_col5\" class=\"col_heading level0 col5\" >50%</th>\n      <th id=\"T_5c4b9_level0_col6\" class=\"col_heading level0 col6\" >75%</th>\n      <th id=\"T_5c4b9_level0_col7\" class=\"col_heading level0 col7\" >max</th>\n      <th id=\"T_5c4b9_level0_col8\" class=\"col_heading level0 col8\" >median</th>\n    </tr>\n  </thead>\n  <tbody>\n    <tr>\n      <th id=\"T_5c4b9_level0_row0\" class=\"row_heading level0 row0\" >Соотношение матрица-наполнитель</th>\n      <td id=\"T_5c4b9_row0_col0\" class=\"data row0 col0\" >1023.00</td>\n      <td id=\"T_5c4b9_row0_col1\" class=\"data row0 col1\" >2.93</td>\n      <td id=\"T_5c4b9_row0_col2\" class=\"data row0 col2\" >0.91</td>\n      <td id=\"T_5c4b9_row0_col3\" class=\"data row0 col3\" >0.39</td>\n      <td id=\"T_5c4b9_row0_col4\" class=\"data row0 col4\" >2.32</td>\n      <td id=\"T_5c4b9_row0_col5\" class=\"data row0 col5\" >2.91</td>\n      <td id=\"T_5c4b9_row0_col6\" class=\"data row0 col6\" >3.55</td>\n      <td id=\"T_5c4b9_row0_col7\" class=\"data row0 col7\" >5.59</td>\n      <td id=\"T_5c4b9_row0_col8\" class=\"data row0 col8\" >2.91</td>\n    </tr>\n    <tr>\n      <th id=\"T_5c4b9_level0_row1\" class=\"row_heading level0 row1\" >Плотность, кг/м3</th>\n      <td id=\"T_5c4b9_row1_col0\" class=\"data row1 col0\" >1023.00</td>\n      <td id=\"T_5c4b9_row1_col1\" class=\"data row1 col1\" >1975.73</td>\n      <td id=\"T_5c4b9_row1_col2\" class=\"data row1 col2\" >73.73</td>\n      <td id=\"T_5c4b9_row1_col3\" class=\"data row1 col3\" >1731.76</td>\n      <td id=\"T_5c4b9_row1_col4\" class=\"data row1 col4\" >1924.16</td>\n      <td id=\"T_5c4b9_row1_col5\" class=\"data row1 col5\" >1977.62</td>\n      <td id=\"T_5c4b9_row1_col6\" class=\"data row1 col6\" >2021.37</td>\n      <td id=\"T_5c4b9_row1_col7\" class=\"data row1 col7\" >2207.77</td>\n      <td id=\"T_5c4b9_row1_col8\" class=\"data row1 col8\" >1977.62</td>\n    </tr>\n    <tr>\n      <th id=\"T_5c4b9_level0_row2\" class=\"row_heading level0 row2\" >модуль упругости, ГПа</th>\n      <td id=\"T_5c4b9_row2_col0\" class=\"data row2 col0\" >1023.00</td>\n      <td id=\"T_5c4b9_row2_col1\" class=\"data row2 col1\" >739.92</td>\n      <td id=\"T_5c4b9_row2_col2\" class=\"data row2 col2\" >330.23</td>\n      <td id=\"T_5c4b9_row2_col3\" class=\"data row2 col3\" >2.44</td>\n      <td id=\"T_5c4b9_row2_col4\" class=\"data row2 col4\" >500.05</td>\n      <td id=\"T_5c4b9_row2_col5\" class=\"data row2 col5\" >739.66</td>\n      <td id=\"T_5c4b9_row2_col6\" class=\"data row2 col6\" >961.81</td>\n      <td id=\"T_5c4b9_row2_col7\" class=\"data row2 col7\" >1911.54</td>\n      <td id=\"T_5c4b9_row2_col8\" class=\"data row2 col8\" >739.66</td>\n    </tr>\n    <tr>\n      <th id=\"T_5c4b9_level0_row3\" class=\"row_heading level0 row3\" >Количество отвердителя, м.%</th>\n      <td id=\"T_5c4b9_row3_col0\" class=\"data row3 col0\" >1023.00</td>\n      <td id=\"T_5c4b9_row3_col1\" class=\"data row3 col1\" >110.57</td>\n      <td id=\"T_5c4b9_row3_col2\" class=\"data row3 col2\" >28.30</td>\n      <td id=\"T_5c4b9_row3_col3\" class=\"data row3 col3\" >17.74</td>\n      <td id=\"T_5c4b9_row3_col4\" class=\"data row3 col4\" >92.44</td>\n      <td id=\"T_5c4b9_row3_col5\" class=\"data row3 col5\" >110.56</td>\n      <td id=\"T_5c4b9_row3_col6\" class=\"data row3 col6\" >129.73</td>\n      <td id=\"T_5c4b9_row3_col7\" class=\"data row3 col7\" >198.95</td>\n      <td id=\"T_5c4b9_row3_col8\" class=\"data row3 col8\" >110.56</td>\n    </tr>\n    <tr>\n      <th id=\"T_5c4b9_level0_row4\" class=\"row_heading level0 row4\" >Содержание эпоксидных групп,%_2</th>\n      <td id=\"T_5c4b9_row4_col0\" class=\"data row4 col0\" >1023.00</td>\n      <td id=\"T_5c4b9_row4_col1\" class=\"data row4 col1\" >22.24</td>\n      <td id=\"T_5c4b9_row4_col2\" class=\"data row4 col2\" >2.41</td>\n      <td id=\"T_5c4b9_row4_col3\" class=\"data row4 col3\" >14.25</td>\n      <td id=\"T_5c4b9_row4_col4\" class=\"data row4 col4\" >20.61</td>\n      <td id=\"T_5c4b9_row4_col5\" class=\"data row4 col5\" >22.23</td>\n      <td id=\"T_5c4b9_row4_col6\" class=\"data row4 col6\" >23.96</td>\n      <td id=\"T_5c4b9_row4_col7\" class=\"data row4 col7\" >33.00</td>\n      <td id=\"T_5c4b9_row4_col8\" class=\"data row4 col8\" >22.23</td>\n    </tr>\n    <tr>\n      <th id=\"T_5c4b9_level0_row5\" class=\"row_heading level0 row5\" >Температура вспышки, С_2</th>\n      <td id=\"T_5c4b9_row5_col0\" class=\"data row5 col0\" >1023.00</td>\n      <td id=\"T_5c4b9_row5_col1\" class=\"data row5 col1\" >285.88</td>\n      <td id=\"T_5c4b9_row5_col2\" class=\"data row5 col2\" >40.94</td>\n      <td id=\"T_5c4b9_row5_col3\" class=\"data row5 col3\" >100.00</td>\n      <td id=\"T_5c4b9_row5_col4\" class=\"data row5 col4\" >259.07</td>\n      <td id=\"T_5c4b9_row5_col5\" class=\"data row5 col5\" >285.90</td>\n      <td id=\"T_5c4b9_row5_col6\" class=\"data row5 col6\" >313.00</td>\n      <td id=\"T_5c4b9_row5_col7\" class=\"data row5 col7\" >413.27</td>\n      <td id=\"T_5c4b9_row5_col8\" class=\"data row5 col8\" >285.90</td>\n    </tr>\n    <tr>\n      <th id=\"T_5c4b9_level0_row6\" class=\"row_heading level0 row6\" >Поверхностная плотность, г/м2</th>\n      <td id=\"T_5c4b9_row6_col0\" class=\"data row6 col0\" >1023.00</td>\n      <td id=\"T_5c4b9_row6_col1\" class=\"data row6 col1\" >482.73</td>\n      <td id=\"T_5c4b9_row6_col2\" class=\"data row6 col2\" >281.31</td>\n      <td id=\"T_5c4b9_row6_col3\" class=\"data row6 col3\" >0.60</td>\n      <td id=\"T_5c4b9_row6_col4\" class=\"data row6 col4\" >266.82</td>\n      <td id=\"T_5c4b9_row6_col5\" class=\"data row6 col5\" >451.86</td>\n      <td id=\"T_5c4b9_row6_col6\" class=\"data row6 col6\" >693.23</td>\n      <td id=\"T_5c4b9_row6_col7\" class=\"data row6 col7\" >1399.54</td>\n      <td id=\"T_5c4b9_row6_col8\" class=\"data row6 col8\" >451.86</td>\n    </tr>\n    <tr>\n      <th id=\"T_5c4b9_level0_row7\" class=\"row_heading level0 row7\" >Модуль упругости при растяжении, ГПа</th>\n      <td id=\"T_5c4b9_row7_col0\" class=\"data row7 col0\" >1023.00</td>\n      <td id=\"T_5c4b9_row7_col1\" class=\"data row7 col1\" >73.33</td>\n      <td id=\"T_5c4b9_row7_col2\" class=\"data row7 col2\" >3.12</td>\n      <td id=\"T_5c4b9_row7_col3\" class=\"data row7 col3\" >64.05</td>\n      <td id=\"T_5c4b9_row7_col4\" class=\"data row7 col4\" >71.25</td>\n      <td id=\"T_5c4b9_row7_col5\" class=\"data row7 col5\" >73.27</td>\n      <td id=\"T_5c4b9_row7_col6\" class=\"data row7 col6\" >75.36</td>\n      <td id=\"T_5c4b9_row7_col7\" class=\"data row7 col7\" >82.68</td>\n      <td id=\"T_5c4b9_row7_col8\" class=\"data row7 col8\" >73.27</td>\n    </tr>\n    <tr>\n      <th id=\"T_5c4b9_level0_row8\" class=\"row_heading level0 row8\" >Прочность при растяжении, МПа</th>\n      <td id=\"T_5c4b9_row8_col0\" class=\"data row8 col0\" >1023.00</td>\n      <td id=\"T_5c4b9_row8_col1\" class=\"data row8 col1\" >2466.92</td>\n      <td id=\"T_5c4b9_row8_col2\" class=\"data row8 col2\" >485.63</td>\n      <td id=\"T_5c4b9_row8_col3\" class=\"data row8 col3\" >1036.86</td>\n      <td id=\"T_5c4b9_row8_col4\" class=\"data row8 col4\" >2135.85</td>\n      <td id=\"T_5c4b9_row8_col5\" class=\"data row8 col5\" >2459.52</td>\n      <td id=\"T_5c4b9_row8_col6\" class=\"data row8 col6\" >2767.19</td>\n      <td id=\"T_5c4b9_row8_col7\" class=\"data row8 col7\" >3848.44</td>\n      <td id=\"T_5c4b9_row8_col8\" class=\"data row8 col8\" >2459.52</td>\n    </tr>\n    <tr>\n      <th id=\"T_5c4b9_level0_row9\" class=\"row_heading level0 row9\" >Потребление смолы, г/м2</th>\n      <td id=\"T_5c4b9_row9_col0\" class=\"data row9 col0\" >1023.00</td>\n      <td id=\"T_5c4b9_row9_col1\" class=\"data row9 col1\" >218.42</td>\n      <td id=\"T_5c4b9_row9_col2\" class=\"data row9 col2\" >59.74</td>\n      <td id=\"T_5c4b9_row9_col3\" class=\"data row9 col3\" >33.80</td>\n      <td id=\"T_5c4b9_row9_col4\" class=\"data row9 col4\" >179.63</td>\n      <td id=\"T_5c4b9_row9_col5\" class=\"data row9 col5\" >219.20</td>\n      <td id=\"T_5c4b9_row9_col6\" class=\"data row9 col6\" >257.48</td>\n      <td id=\"T_5c4b9_row9_col7\" class=\"data row9 col7\" >414.59</td>\n      <td id=\"T_5c4b9_row9_col8\" class=\"data row9 col8\" >219.20</td>\n    </tr>\n    <tr>\n      <th id=\"T_5c4b9_level0_row10\" class=\"row_heading level0 row10\" >Угол нашивки, град</th>\n      <td id=\"T_5c4b9_row10_col0\" class=\"data row10 col0\" >1023.00</td>\n      <td id=\"T_5c4b9_row10_col1\" class=\"data row10 col1\" >44.25</td>\n      <td id=\"T_5c4b9_row10_col2\" class=\"data row10 col2\" >45.02</td>\n      <td id=\"T_5c4b9_row10_col3\" class=\"data row10 col3\" >0.00</td>\n      <td id=\"T_5c4b9_row10_col4\" class=\"data row10 col4\" >0.00</td>\n      <td id=\"T_5c4b9_row10_col5\" class=\"data row10 col5\" >0.00</td>\n      <td id=\"T_5c4b9_row10_col6\" class=\"data row10 col6\" >90.00</td>\n      <td id=\"T_5c4b9_row10_col7\" class=\"data row10 col7\" >90.00</td>\n      <td id=\"T_5c4b9_row10_col8\" class=\"data row10 col8\" >0.00</td>\n    </tr>\n    <tr>\n      <th id=\"T_5c4b9_level0_row11\" class=\"row_heading level0 row11\" >Шаг нашивки</th>\n      <td id=\"T_5c4b9_row11_col0\" class=\"data row11 col0\" >1023.00</td>\n      <td id=\"T_5c4b9_row11_col1\" class=\"data row11 col1\" >6.90</td>\n      <td id=\"T_5c4b9_row11_col2\" class=\"data row11 col2\" >2.56</td>\n      <td id=\"T_5c4b9_row11_col3\" class=\"data row11 col3\" >0.00</td>\n      <td id=\"T_5c4b9_row11_col4\" class=\"data row11 col4\" >5.08</td>\n      <td id=\"T_5c4b9_row11_col5\" class=\"data row11 col5\" >6.92</td>\n      <td id=\"T_5c4b9_row11_col6\" class=\"data row11 col6\" >8.59</td>\n      <td id=\"T_5c4b9_row11_col7\" class=\"data row11 col7\" >14.44</td>\n      <td id=\"T_5c4b9_row11_col8\" class=\"data row11 col8\" >6.92</td>\n    </tr>\n    <tr>\n      <th id=\"T_5c4b9_level0_row12\" class=\"row_heading level0 row12\" >Плотность нашивки</th>\n      <td id=\"T_5c4b9_row12_col0\" class=\"data row12 col0\" >1023.00</td>\n      <td id=\"T_5c4b9_row12_col1\" class=\"data row12 col1\" >57.15</td>\n      <td id=\"T_5c4b9_row12_col2\" class=\"data row12 col2\" >12.35</td>\n      <td id=\"T_5c4b9_row12_col3\" class=\"data row12 col3\" >0.00</td>\n      <td id=\"T_5c4b9_row12_col4\" class=\"data row12 col4\" >49.80</td>\n      <td id=\"T_5c4b9_row12_col5\" class=\"data row12 col5\" >57.34</td>\n      <td id=\"T_5c4b9_row12_col6\" class=\"data row12 col6\" >64.94</td>\n      <td id=\"T_5c4b9_row12_col7\" class=\"data row12 col7\" >103.99</td>\n      <td id=\"T_5c4b9_row12_col8\" class=\"data row12 col8\" >57.34</td>\n    </tr>\n  </tbody>\n</table>\n"
     },
     "execution_count": 38,
     "metadata": {},
     "output_type": "execute_result"
    }
   ],
   "source": [
    "# Посмотрим описательную статистику\n",
    "df_descr = df.describe().T\n",
    "df_descr['median'] = df.median()\n",
    "df_descr.style.format(precision=2)"
   ]
  },
  {
   "cell_type": "code",
   "execution_count": 42,
   "id": "3a60e93d",
   "metadata": {
    "colab": {
     "base_uri": "https://localhost:8080/",
     "height": 1000
    },
    "id": "3a60e93d",
    "outputId": "0bed4b89-4b74-4687-d300-97412b256fc7"
   },
   "outputs": [
    {
     "data": {
      "text/plain": "<Figure size 1500x4800 with 26 Axes>",
      "image/png": "[encoded data removed]"
     },
     "metadata": {},
     "output_type": "display_data"
    }
   ],
   "source": [
    "# Для детального стат.анализа построим графики распределения переменных и \"ящики с усами\"\n",
    "fig, axes = plt.subplots(13, 2, figsize=(15, 48))\n",
    "for k, column in enumerate(df.columns):    \n",
    "    sns.histplot(data=df, x=column, kde=True, ax=axes[k, 0])\n",
    "    sns.boxplot(data=df, x=column, ax=axes[k, 1])\n",
    "plt.show()"
   ]
  },
  {
   "cell_type": "markdown",
   "id": "Ewgyz3cTf7gL",
   "metadata": {
    "id": "Ewgyz3cTf7gL"
   },
   "source": [
    "Все признаки, кроме \"Угол нашивки, град\" имеют нормальное распределение.\n",
    "Они количественные, вещественные. Принимают неотрицательные значения.\n",
    "\n",
    "\"Угол нашивки, град\" принимает 2 значения, поэтому переведем в бинарный признак."
   ]
  },
  {
   "cell_type": "code",
   "execution_count": 53,
   "id": "60698cb1",
   "metadata": {
    "colab": {
     "base_uri": "https://localhost:8080/",
     "height": 1000
    },
    "id": "60698cb1",
    "outputId": "32078fb3-1ae5-4b1f-f3c7-7ecf7fbcb422"
   },
   "outputs": [
    {
     "ename": "NameError",
     "evalue": "name 'df_plot' is not defined",
     "output_type": "error",
     "traceback": [
      "\u001B[1;31m---------------------------------------------------------------------------\u001B[0m",
      "\u001B[1;31mNameError\u001B[0m                                 Traceback (most recent call last)",
      "\u001B[1;32m~\\AppData\\Local\\Temp\\ipykernel_8076\\4091832097.py\u001B[0m in \u001B[0;36m<module>\u001B[1;34m\u001B[0m\n\u001B[0;32m      1\u001B[0m \u001B[1;31m# Построим матрицы диаграмм рассеяния\u001B[0m\u001B[1;33m\u001B[0m\u001B[1;33m\u001B[0m\u001B[0m\n\u001B[0;32m      2\u001B[0m g=sns.PairGrid(df_plot=df,\n\u001B[1;32m----> 3\u001B[1;33m             \u001B[0mvars\u001B[0m\u001B[1;33m=\u001B[0m\u001B[1;33m[\u001B[0m\u001B[0mdf_plot\u001B[0m\u001B[1;33m(\u001B[0m\u001B[1;33m)\u001B[0m\u001B[1;33m]\u001B[0m\u001B[1;33m,\u001B[0m\u001B[1;33m\u001B[0m\u001B[1;33m\u001B[0m\u001B[0m\n\u001B[0m\u001B[0;32m      4\u001B[0m             height=3);\n\u001B[0;32m      5\u001B[0m \u001B[0mdf_descr\u001B[0m\u001B[1;33m\u001B[0m\u001B[1;33m\u001B[0m\u001B[0m\n",
      "\u001B[1;31mNameError\u001B[0m: name 'df_plot' is not defined"
     ]
    }
   ],
   "source": [
    "# Построим матрицы диаграмм рассеяния\n",
    "g=sns.PairGrid(df_plot=df,\n",
    "            vars=[df_plot()],\n",
    "            height=3);\n",
    "df_descr"
   ]
  },
  {
   "cell_type": "markdown",
   "id": "SNzXHUX2gpFs",
   "metadata": {
    "id": "SNzXHUX2gpFs"
   },
   "source": [
    "По графикам видно, что выбросы есть. Некоторые точки стоят очень далеко от общего облака."
   ]
  },
  {
   "cell_type": "markdown",
   "id": "ZQn6huuzgspx",
   "metadata": {
    "id": "ZQn6huuzgspx"
   },
   "source": [
    "Найду выбросы.\n",
    "\n",
    "Для поиска выбросов есть разные методы: 3-х сигм или межквартильных расстояний. Экспериментирую, как они отработают на данном наборе данных."
   ]
  },
  {
   "cell_type": "code",
   "execution_count": null,
   "id": "f30ac814",
   "metadata": {
    "colab": {
     "base_uri": "https://localhost:8080/",
     "height": 1000
    },
    "id": "f30ac814",
    "outputId": "e0614139-5cc8-4b76-d827-b03f3617e629"
   },
   "outputs": [],
   "source": [
    "count_3s = 0\n",
    "count_iq = 0\n",
    "for column in df:\n",
    "    d = df.loc[:, [column]]\n",
    "    # методом 3-х сигм\n",
    "    zscore = (df[column] - df[column].mean()) / df[column].std()\n",
    "    d['3s'] = zscore.abs() > 3\n",
    "    count_3s += d['3s'].sum()\n",
    "    # методом межквартильных расстояний\n",
    "    q1 = np.quantile(df[column], 0.25)\n",
    "    q3 = np.quantile(df[column], 0.75)\n",
    "    iqr = q3 - q1\n",
    "    lower = q1 - 1.5 * iqr\n",
    "    upper = q3 + 1.5 * iqr\n",
    "    d['iq'] = (df[column] <= lower) | (df[column] >= upper)\n",
    "    count_iq += d['iq'].sum()\n",
    "    # визуализация выбросов\n",
    "    print('{}: 3s={} iq={}'.format(column, d['3s'].sum(), d['iq'].sum()))\n",
    "    fig, axes = plt.subplots(1, 2, figsize=(12, 2.5))\n",
    "    sns.histplot(data=d, x=column, hue='3s', multiple='stack', legend=False, ax=axes[0])\n",
    "    sns.boxplot(data=d, x=column, color='tab:gray', ax=axes[1])\n",
    "    sns.stripplot(data=d[d['iq']==False], x=column, ax=axes[1])\n",
    "    sns.stripplot(data=d[d['iq']==True], x=column, color='tab:orange', ax=axes[1])\n",
    "    plt.show()\n",
    "\n",
    "print('Метод 3-х сигм, выбросов:', count_3s)\n",
    "print('Метод межквартильных расстояний, выбросов:', count_iq)"
   ]
  },
  {
   "cell_type": "markdown",
   "id": "HYftBVZMm8wj",
   "metadata": {
    "id": "HYftBVZMm8wj"
   },
   "source": [
    "Вот что получилось:\n",
    "* Метод 3-х сигм, выбросов по всем переменным: 24\n",
    "* Метод межквартильных расстояний, выбросов по всем переменным: 93\n",
    "\n",
    "На сырых данных я бы применила метод межквартильных расстояний, чтоб получить более \"чистые\" данные. Но раз датасет уже очищен от явного шума, применю метод 3-х сигм, чтобы потерять меньше значимой информации."
   ]
  },
  {
   "cell_type": "code",
   "execution_count": null,
   "id": "ccb4d968",
   "metadata": {
    "colab": {
     "base_uri": "https://localhost:8080/"
    },
    "id": "ccb4d968",
    "outputId": "ff7d45eb-e1fb-4fe6-83b7-1dd35b76cb89"
   },
   "outputs": [],
   "source": [
    "# Удалить выбросы методом 3-х сигм\n",
    "outliers = pd.DataFrame(index=df.index)\n",
    "for column in df:\n",
    "    zscore = (df[column] - df[column].mean()) / df[column].std()\n",
    "    outliers[column] = (zscore.abs() > 3)\n",
    "df = df[outliers.sum(axis=1)==0]\n",
    "df.shape"
   ]
  },
  {
   "cell_type": "code",
   "execution_count": null,
   "id": "OyMog3fInQ2m",
   "metadata": {
    "id": "OyMog3fInQ2m"
   },
   "outputs": [],
   "source": [
    "# Очищенные данные тоже стоит сохранить\n",
    "df.to_excel(data_path + 'data_cleaned.xlsx')"
   ]
  },
  {
   "cell_type": "markdown",
   "id": "440WwH2xnfE8",
   "metadata": {
    "id": "440WwH2xnfE8"
   },
   "source": [
    "Смущает то, что по внешнему виду графиков мы не видим никаких зависимостей между признаками. То, что входные переменные независимы друг от друга - это хорошо. Но выходые переменные должны как-то зависеть от входных, чтобы модель могла найти эту зависимость и использовать ее для предсказания."
   ]
  },
  {
   "cell_type": "code",
   "execution_count": null,
   "id": "906dc917",
   "metadata": {
    "colab": {
     "base_uri": "https://localhost:8080/",
     "height": 635
    },
    "id": "906dc917",
    "outputId": "77797264-7ebb-4ad5-ac3f-5bb7e508279c"
   },
   "outputs": [],
   "source": [
    "# Попробую рассмотреть матрицу корреляции.\n",
    "corr = df.corr()\n",
    "fig, ax = plt.subplots(figsize=(9, 7))\n",
    "sns.heatmap(corr, vmin=-1, vmax=1, annot=True, fmt='.2f', cmap='twilight_shifted', ax=ax)\n",
    "plt.show()"
   ]
  },
  {
   "cell_type": "markdown",
   "id": "kOsd26q2nvv8",
   "metadata": {
    "id": "kOsd26q2nvv8"
   },
   "source": [
    "Коэффициенты корреляции, близкие к 0, показывают отсутствие линейной зависимости между признаками. Предполагаю, что применение линейных моделей регрессии не даст приемлемого результата."
   ]
  },
  {
   "cell_type": "markdown",
   "id": "0dc854df",
   "metadata": {
    "id": "0dc854df"
   },
   "source": [
    "## Обучить нескольких моделей"
   ]
  },
  {
   "cell_type": "markdown",
   "id": "ff5359e3",
   "metadata": {
    "id": "ff5359e3"
   },
   "source": [
    "В этом разделе необходимо:\n",
    "* 30% данных оставить на тестирование модели, на остальных происходит обучение моделей. \n",
    "* Провести предобработку данных (нормализация и т.д.).\n",
    "* При построении моделей провести поиск гиперпараметров модели с помощью поиска по сетке с перекрестной проверкой, количество блоков равно 10.\n",
    "* Обучить нескольких моделей для прогноза модуля упругости при растяжении и прочности при растяжении.\n",
    "* Написать нейронную сеть, которая будет рекомендовать соотношение матрица-наполнитель. "
   ]
  },
  {
   "cell_type": "code",
   "execution_count": null,
   "id": "8fa2c130",
   "metadata": {
    "colab": {
     "base_uri": "https://localhost:8080/",
     "height": 557
    },
    "id": "8fa2c130",
    "outputId": "1457446d-3573-4d7c-e5e5-53eee205944f"
   },
   "outputs": [],
   "source": [
    "# Загрузить данные, подготовленные на предыдущем шаге\n",
    "df = pd.read_excel(data_path + 'data_cleaned.xlsx', index_col=0)\n",
    "df"
   ]
  },
  {
   "cell_type": "markdown",
   "id": "485a987d",
   "metadata": {
    "id": "485a987d"
   },
   "source": [
    "### Разделить данные на входные и выходные признаки"
   ]
  },
  {
   "cell_type": "code",
   "execution_count": null,
   "id": "3b14bb4b",
   "metadata": {
    "colab": {
     "base_uri": "https://localhost:8080/",
     "height": 390
    },
    "id": "3b14bb4b",
    "outputId": "1a8dd711-5840-4b8d-ce55-a79b390bafd9"
   },
   "outputs": [],
   "source": [
    "from IPython.display import Image\n",
    "Image(filename=nb_path + 'process.png')"
   ]
  },
  {
   "cell_type": "markdown",
   "id": "TY3hiaAh2kj5",
   "metadata": {
    "id": "TY3hiaAh2kj5"
   },
   "source": [
    "Статистическими методами мы зависимостей не обнаружили. Хорошо бы узнать, какие связи между признаками видит специалист по предметной области. \n",
    "\n",
    "Можно предположить, что признаки делятся на:\n",
    "* свойства матрицы;\n",
    "* свойства наполнителя;\n",
    "* свойства смеси и производственного процесса;\n",
    "* свойства готового композита.\n",
    "\n",
    "В этом случае целевые признаки имеют зависимости вида:\n",
    "* модуль упругости при растяжении, Гпа (композит) = f(матрица, наполнитель, процесс);\n",
    "* прочность при растяжении, МПа (композит) = f(матрица, наполнитель, процесс);\n",
    "* соотношение матрица-наполнитель (процесс) = f(матрица, наполнитель, композит).\n",
    "\n",
    "В этой работе я поняла предметную область и распределила признаки по группам, как показано на рисунке выше.\n",
    "\n",
    "Для каждого из целевых признаков построю отдельную модель, следовательно решу 3 отдельные задачи."
   ]
  },
  {
   "cell_type": "code",
   "execution_count": null,
   "id": "7c133145",
   "metadata": {
    "id": "7c133145"
   },
   "outputs": [],
   "source": [
    "# Признаки для 1-й задачи\n",
    "y1_columns = ['Модуль упругости при растяжении, ГПа']\n",
    "x1_columns = [\n",
    "  'Соотношение матрица-наполнитель', \n",
    "  'Плотность, кг/м3',\n",
    "  'модуль упругости, ГПа', \n",
    "  'Количество отвердителя, м.%',\n",
    "  'Содержание эпоксидных групп,%_2', \n",
    "  'Температура вспышки, С_2',\n",
    "  'Поверхностная плотность, г/м2', \n",
    "  'Потребление смолы, г/м2',\n",
    "  'Угол нашивки, град', \n",
    "  'Шаг нашивки', \n",
    "  'Плотность нашивки'\n",
    "]"
   ]
  },
  {
   "cell_type": "code",
   "execution_count": null,
   "id": "A9OeTZ1uPimz",
   "metadata": {
    "id": "A9OeTZ1uPimz"
   },
   "outputs": [],
   "source": [
    "y1 = df.loc[:, y1_columns]\n",
    "x1 = df.loc[:, x1_columns]"
   ]
  },
  {
   "cell_type": "code",
   "execution_count": null,
   "id": "beebe550",
   "metadata": {
    "id": "beebe550"
   },
   "outputs": [],
   "source": [
    "# Признаки для 2-й задачи\n",
    "y2_columns = ['Прочность при растяжении, МПа']\n",
    "x2_columns = [\n",
    "  'Соотношение матрица-наполнитель', \n",
    "  'Плотность, кг/м3',\n",
    "  'модуль упругости, ГПа', \n",
    "  'Количество отвердителя, м.%',\n",
    "  'Содержание эпоксидных групп,%_2', \n",
    "  'Температура вспышки, С_2',\n",
    "  'Поверхностная плотность, г/м2', \n",
    "  'Потребление смолы, г/м2',\n",
    "  'Угол нашивки, град', \n",
    "  'Шаг нашивки', \n",
    "  'Плотность нашивки'\n",
    "]"
   ]
  },
  {
   "cell_type": "code",
   "execution_count": null,
   "id": "9t5o7sAAPlDz",
   "metadata": {
    "id": "9t5o7sAAPlDz"
   },
   "outputs": [],
   "source": [
    "y2 = df.loc[:, y2_columns]\n",
    "x2 = df.loc[:, x2_columns]"
   ]
  },
  {
   "cell_type": "code",
   "execution_count": null,
   "id": "688dcd94",
   "metadata": {
    "id": "688dcd94"
   },
   "outputs": [],
   "source": [
    "# Признаки для 3-й задачи\n",
    "y3_columns = ['Соотношение матрица-наполнитель']\n",
    "x3_columns = [\n",
    "  'Плотность, кг/м3',\n",
    "  'модуль упругости, ГПа', \n",
    "  'Количество отвердителя, м.%',\n",
    "  'Содержание эпоксидных групп,%_2', \n",
    "  'Температура вспышки, С_2',\n",
    "  'Поверхностная плотность, г/м2', \n",
    "  'Модуль упругости при растяжении, ГПа',\n",
    "  'Прочность при растяжении, МПа', \n",
    "  'Потребление смолы, г/м2',\n",
    "  'Угол нашивки, град', \n",
    "  'Шаг нашивки', \n",
    "  'Плотность нашивки'\n",
    "]"
   ]
  },
  {
   "cell_type": "code",
   "execution_count": null,
   "id": "GJp_KSHXPohl",
   "metadata": {
    "id": "GJp_KSHXPohl"
   },
   "outputs": [],
   "source": [
    "y3 = df.loc[:, y3_columns]\n",
    "x3 = df.loc[:, x3_columns]"
   ]
  },
  {
   "cell_type": "markdown",
   "id": "a0664c10",
   "metadata": {
    "id": "a0664c10"
   },
   "source": [
    "### Препроцессинг"
   ]
  },
  {
   "cell_type": "markdown",
   "id": "dec12daf",
   "metadata": {
    "id": "dec12daf"
   },
   "source": [
    "Далее необходимо выполнить препроцессинг. Его необходимо выполнять после разделения на тренировочную и тестовую выборку, как будто мы не знаем параметров тестовой выборки (минимум, максимум, матожидание, стандартное отклонение). \n",
    "\n",
    "Препроцессинг для категориальных и количественных признаков выполняем по-разному.\n",
    "\n",
    "Категориальный признак один - 'Угол нашивки, град'. Он принимает значения 0 и 90. Использую OrdinalEncoder, чтобы признак принимал значения 0 и 1.\n",
    "\n",
    "Вещественных количественных признаков у нас большинство. Можно применить нормализацию (приведение в диапазон от 0 до 1) или стандартизацию (приведение к матожиданию 0, стандартному отклонению 1). Использую стандартизацию и StandardScaler.\n",
    "\n",
    "Также препроцессинг необходимо повторить в приложении для введенных данных. Поэтому удобно реализовать предварительную обработку с помощью ColumnTransformer. Создам объект preprocessor для каждой из 3-х задач.\n",
    "\n",
    "Выходные переменные никак не изменяю."
   ]
  },
  {
   "cell_type": "code",
   "execution_count": null,
   "id": "30b477f4",
   "metadata": {
    "id": "30b477f4"
   },
   "outputs": [],
   "source": [
    "# Разделю переменные на категориальные и численные\n",
    "x_categorical = ['Угол нашивки, град']\n",
    "x1_continuous = [column for column in x1_columns if column not in x_categorical]\n",
    "x2_continuous = [column for column in x2_columns if column not in x_categorical]\n",
    "x3_continuous = [column for column in x3_columns if column not in x_categorical]"
   ]
  },
  {
   "cell_type": "code",
   "execution_count": null,
   "id": "1c7a37c3",
   "metadata": {
    "id": "1c7a37c3"
   },
   "outputs": [],
   "source": [
    "# Препроцессор для 1-й задачи\n",
    "preprocessor1 = ColumnTransformer(transformers=[\n",
    "        (\"continuous\", StandardScaler(), x1_continuous),\n",
    "        (\"categorical\", OrdinalEncoder(), x_categorical)\n",
    "])"
   ]
  },
  {
   "cell_type": "code",
   "execution_count": null,
   "id": "cec41ccf",
   "metadata": {
    "id": "cec41ccf"
   },
   "outputs": [],
   "source": [
    "# Препроцессор для 2-й задачи\n",
    "preprocessor2 = ColumnTransformer(transformers=[\n",
    "        (\"continuous\", StandardScaler(), x2_continuous),\n",
    "        (\"categorical\", OrdinalEncoder(), x_categorical)\n",
    "])"
   ]
  },
  {
   "cell_type": "code",
   "execution_count": null,
   "id": "9bf6718d",
   "metadata": {
    "id": "9bf6718d"
   },
   "outputs": [],
   "source": [
    "# Препроцессор для 3-й задачи\n",
    "preprocessor3 = ColumnTransformer(transformers=[\n",
    "        (\"continuous\", StandardScaler(), x3_continuous),\n",
    "        (\"categorical\", OrdinalEncoder(), x_categorical)\n",
    "])"
   ]
  },
  {
   "cell_type": "code",
   "execution_count": null,
   "id": "94ab55ea",
   "metadata": {
    "id": "94ab55ea"
   },
   "outputs": [],
   "source": [
    "# Необходимо сравнить распределения признаков до и после обработки\n",
    "# Сделаю вспомогательную функцию, чтобы описательная статистика отображалась одинаково\n",
    "def show_statistics(d):\n",
    "    return d.describe().loc[['min', 'max', 'mean', 'std'], :].style.format(precision=6)"
   ]
  },
  {
   "cell_type": "markdown",
   "id": "372974be",
   "metadata": {
    "id": "372974be"
   },
   "source": [
    "### Выбор модели"
   ]
  },
  {
   "cell_type": "markdown",
   "id": "e183f3d2",
   "metadata": {
    "id": "e183f3d2"
   },
   "source": [
    "Какую модель использовать? Нужно попробовать разные. Для сравнения моделей использую несколько метрик. Для статистической устойчивости результатов использую кросс-валидацию. Оформлю запуск моделей, кросс-валидацию и получение метрик в виде вспомогательной функции."
   ]
  },
  {
   "cell_type": "code",
   "execution_count": null,
   "id": "07bdfb84",
   "metadata": {
    "id": "07bdfb84"
   },
   "outputs": [],
   "source": [
    "def run_models(models, x, y):\n",
    "    stat = pd.DataFrame()\n",
    "    cv = KFold(10, shuffle=True, random_state=RANDOM_STATE)\n",
    "    scoring = ['r2', \n",
    "                'max_error', \n",
    "                'neg_root_mean_squared_error', \n",
    "                'neg_mean_absolute_error', \n",
    "                'neg_mean_absolute_percentage_error']\n",
    "    for model_name, model in models.items():\n",
    "        scores = cross_validate(model, x, y, cv=cv, scoring=scoring)\n",
    "        stat.loc[model_name, 'R2'] = scores['test_r2'].mean()\n",
    "        stat.loc[model_name, 'RMSE'] = scores['test_neg_root_mean_squared_error'].mean()\n",
    "        stat.loc[model_name, 'MAE'] = scores['test_neg_mean_absolute_error'].mean()\n",
    "        stat.loc[model_name, 'MAPE'] = scores['test_neg_mean_absolute_percentage_error'].mean()\n",
    "        stat.loc[model_name, 'max_error'] = scores['test_max_error'].mean()\n",
    "    return stat"
   ]
  },
  {
   "cell_type": "markdown",
   "id": "c8041ebb",
   "metadata": {
    "id": "c8041ebb"
   },
   "source": [
    "Для поиска параметров по сетке тоже сделаю вспомогательную функцию, чтобы везде использовалась одинаковые параметры и одинаково выводился результат."
   ]
  },
  {
   "cell_type": "code",
   "execution_count": null,
   "id": "c88dbb07",
   "metadata": {
    "id": "c88dbb07"
   },
   "outputs": [],
   "source": [
    "def run_grid_search(model, params, x, y):\n",
    "    pd.options.display.max_colwidth = 200\n",
    "    stat = pd.DataFrame()\n",
    "    cv = KFold(10, shuffle=True, random_state=RANDOM_STATE)\n",
    "    # scoring = 'neg_root_mean_squared_error'\n",
    "    scoring = 'neg_mean_absolute_error'\n",
    "    searcher = GridSearchCV(model, params, cv=cv, scoring=scoring)\n",
    "    searcher.fit(x, y)\n",
    "    stat.loc[:, 'params'] = searcher.cv_results_['params']\n",
    "    stat.loc[:, 'MAE'] = searcher.cv_results_['mean_test_score']\n",
    "    stat.loc[:, 'rank'] = searcher.cv_results_['rank_test_score']\n",
    "    return stat, searcher.best_estimator_"
   ]
  },
  {
   "cell_type": "markdown",
   "id": "8c7d817c",
   "metadata": {
    "id": "8c7d817c"
   },
   "source": [
    "И еще одна вспомогательная функция для получения метрик предсказания."
   ]
  },
  {
   "cell_type": "code",
   "execution_count": null,
   "id": "a12538b9",
   "metadata": {
    "id": "a12538b9"
   },
   "outputs": [],
   "source": [
    "def get_metrics(model_name, y, y_pred):\n",
    "    stat = pd.DataFrame()\n",
    "    stat.loc[model_name, 'R2'] = metrics.r2_score(y, y_pred)\n",
    "    stat.loc[model_name, 'RMSE'] = metrics.mean_squared_error(y, y_pred, squared=False) * -1\n",
    "    stat.loc[model_name, 'MAE'] = metrics.mean_absolute_error(y, y_pred) * -1\n",
    "    stat.loc[model_name, 'MAPE'] = metrics.mean_absolute_percentage_error(y, y_pred) * -1\n",
    "    stat.loc[model_name, 'max_error'] = metrics.max_error(y, y_pred) * -1\n",
    "    return stat"
   ]
  },
  {
   "cell_type": "markdown",
   "id": "e2b86692",
   "metadata": {
    "id": "e2b86692"
   },
   "source": [
    "Чтобы определить нижнюю границу качества модели, использую базовую модель, возвращающую среднее значение целевого признака. Рабочая модель по своим характеристикам должна быть лучше базовой. Можно для этой цели создать класс, унаследованный от BaseEstimator. А можно использовать DummyRegressor из sklearn."
   ]
  },
  {
   "cell_type": "markdown",
   "id": "59827f03",
   "metadata": {
    "id": "59827f03"
   },
   "source": [
    "### Модель для модуля упругости при растяжении, ГПа"
   ]
  },
  {
   "cell_type": "code",
   "execution_count": null,
   "id": "225628cb",
   "metadata": {
    "colab": {
     "base_uri": "https://localhost:8080/"
    },
    "id": "225628cb",
    "outputId": "b1c64ccd-2b01-4def-c774-4191a5869a1b"
   },
   "outputs": [],
   "source": [
    "# Разделяю на тренировочную и тестовую выборку\n",
    "x1_train_raw, x1_test_raw, y1_train, y1_test = train_test_split(x1, y1, test_size=0.3, random_state=RANDOM_STATE)\n",
    "print('x1_train:', x1_train_raw.shape, 'y1_train:', y1_train.shape)\n",
    "print('x1_test:', x1_test_raw.shape, 'y1_test:', y1_test.shape)"
   ]
  },
  {
   "cell_type": "code",
   "execution_count": null,
   "id": "ebba4f70",
   "metadata": {
    "id": "ebba4f70"
   },
   "outputs": [],
   "source": [
    "# Выполняю препроцессинг входных переменных\n",
    "x1_train = preprocessor1.fit_transform(x1_train_raw)\n",
    "x1_test = preprocessor1.transform(x1_test_raw)"
   ]
  },
  {
   "cell_type": "code",
   "execution_count": null,
   "id": "76288828",
   "metadata": {
    "id": "76288828"
   },
   "outputs": [],
   "source": [
    "# Выходная переменная преобразованиям не подвергается\n",
    "y1_train = y1_train['Модуль упругости при растяжении, ГПа'].values\n",
    "y1_test = y1_test['Модуль упругости при растяжении, ГПа'].values"
   ]
  },
  {
   "cell_type": "code",
   "execution_count": null,
   "id": "09632cfb",
   "metadata": {
    "colab": {
     "base_uri": "https://localhost:8080/",
     "height": 210
    },
    "id": "09632cfb",
    "outputId": "8f51a1c1-2e9f-44ae-e1f3-62d32a71fb0e"
   },
   "outputs": [],
   "source": [
    "# Описательная статистика входных данных до предобработки\n",
    "show_statistics(x1_train_raw)"
   ]
  },
  {
   "cell_type": "code",
   "execution_count": null,
   "id": "cac034c1",
   "metadata": {
    "colab": {
     "base_uri": "https://localhost:8080/",
     "height": 210
    },
    "id": "cac034c1",
    "outputId": "47878b9b-6075-4f40-a296-38a126a2d222"
   },
   "outputs": [],
   "source": [
    "# Описательная статистика входных данных после предобработки\n",
    "show_statistics(pd.DataFrame(x1_train, columns=(x1_continuous + x_categorical)))"
   ]
  },
  {
   "cell_type": "code",
   "execution_count": null,
   "id": "1e23acea",
   "metadata": {
    "colab": {
     "base_uri": "https://localhost:8080/",
     "height": 175
    },
    "id": "1e23acea",
    "outputId": "e19052c5-b779-4868-fd00-dbd283c7c8f0"
   },
   "outputs": [],
   "source": [
    "# Описательная статистика выходной переменной\n",
    "show_statistics(y1_train)"
   ]
  },
  {
   "cell_type": "code",
   "execution_count": null,
   "id": "1fe08032",
   "metadata": {
    "colab": {
     "base_uri": "https://localhost:8080/",
     "height": 300
    },
    "id": "1fe08032",
    "outputId": "a5fc2240-5c4c-484b-cf27-15b585048c25"
   },
   "outputs": [],
   "source": [
    "# Сравнение моделей с параметрами по умолчанию\n",
    "def_models1 = {\n",
    "    'DummyRegressor': DummyRegressor(strategy='mean'),\n",
    "    'LinearRegression': LinearRegression(),\n",
    "    'Ridge': Ridge(),\n",
    "    'Lasso': Lasso(),\n",
    "    'SVR': SVR(),\n",
    "    'KNeighborsRegressor': KNeighborsRegressor(),\n",
    "    'DecisionTreeRegressor': DecisionTreeRegressor(random_state=RANDOM_STATE),\n",
    "    'RandomForestRegressor': RandomForestRegressor(random_state=RANDOM_STATE)\n",
    "}\n",
    "\n",
    "stat1_1 = run_models(def_models1, x1_train, y1_train)\n",
    "stat1_1.style.highlight_max(axis=0)"
   ]
  },
  {
   "cell_type": "markdown",
   "id": "fFBEZzh8gGuP",
   "metadata": {
    "id": "fFBEZzh8gGuP"
   },
   "source": [
    "Ни одна из выбранных мной моделей не оказалась подходящей  для наших данных. \n",
    "\n",
    "Коэффициент детерминации R2 близок к 0 для линейных моделей и метода опорных векторов. Значит, они не лучше базовой модели. И остальные метрики у них примерно совпадают с базовой моделью.\n",
    "\n",
    "Гораздо хуже линейных с гиперпараметрами по умолчанию отработали метод ближайших соседей и деревья решений.\n",
    "\n",
    "Случайный лес отработал лучше, чем одно дерево решений, но хуже, чем линейные модели."
   ]
  },
  {
   "cell_type": "code",
   "execution_count": null,
   "id": "3f85wQI9RMi_",
   "metadata": {
    "id": "3f85wQI9RMi_"
   },
   "outputs": [],
   "source": [
    "# Приступаем к поиску лучших моделей\n",
    "s_models1 = {}"
   ]
  },
  {
   "cell_type": "code",
   "execution_count": null,
   "id": "E_WQ__mcBqfD",
   "metadata": {
    "id": "E_WQ__mcBqfD"
   },
   "outputs": [],
   "source": [
    "# Попробую подобрать параметры для модели Ridge\n",
    "#\n",
    "# alpha, default=1.0\n",
    "# Regularization strength; must be a positive float\n",
    "#\n",
    "# solver {‘auto’, ‘svd’, ‘cholesky’, ‘lsqr’, ‘sparse_cg’, ‘sag’, ‘saga’, ‘lbfgs’}, default=’auto’\n",
    "# Solver to use in the computational routines\n",
    "#\n",
    "# random_state - только для ‘sag’, ‘saga’\n",
    "#\n",
    "# positive - только для ‘lbfgs’"
   ]
  },
  {
   "cell_type": "code",
   "execution_count": null,
   "id": "WhfatT7hBggQ",
   "metadata": {
    "colab": {
     "base_uri": "https://localhost:8080/",
     "height": 81
    },
    "id": "WhfatT7hBggQ",
    "outputId": "eb0a28d2-89f0-4c97-d67c-360a4992b781"
   },
   "outputs": [],
   "source": [
    "params1 = [\n",
    "  {\n",
    "    'solver': ['auto', 'svd', 'cholesky', 'lsqr', 'sparse_cg'],\n",
    "    'alpha': range(10, 1510, 10)\n",
    "  },           \n",
    "  {\n",
    "    'solver': ['lbfgs'],\n",
    "    'alpha': range(10, 1510, 10),\n",
    "    'positive': [True]\n",
    "  }\n",
    "]\n",
    "search, smodel = run_grid_search(Ridge(), params1, x1_train, y1_train)\n",
    "s_models1[str(smodel)] = smodel\n",
    "search[search['rank']==1]"
   ]
  },
  {
   "cell_type": "code",
   "execution_count": null,
   "id": "AKEKtckqG9x8",
   "metadata": {
    "id": "AKEKtckqG9x8"
   },
   "outputs": [],
   "source": [
    "# Попробую подобрать параметры для модели Lasso\n",
    "#\n",
    "# alpha, default=1.0\n",
    "# Constant that multiplies the L1 term. "
   ]
  },
  {
   "cell_type": "code",
   "execution_count": null,
   "id": "51abb22f",
   "metadata": {
    "colab": {
     "base_uri": "https://localhost:8080/",
     "height": 81
    },
    "id": "51abb22f",
    "outputId": "0f153ec7-19d9-4e0e-d98c-87ab2febe4c1"
   },
   "outputs": [],
   "source": [
    "params1 = [\n",
    "  {\n",
    "    'alpha': [0.001, 0.005, 0.01, 0.05, 0.095, 0.1, 0.150, 0.2, 0.5, 1]\n",
    "  }\n",
    "]\n",
    "search, smodel = run_grid_search(Lasso(), params1, x1_train, y1_train)\n",
    "s_models1[str(smodel)] = smodel\n",
    "search[search['rank']==1]"
   ]
  },
  {
   "cell_type": "code",
   "execution_count": null,
   "id": "5YvsMrKnOpE1",
   "metadata": {
    "id": "5YvsMrKnOpE1"
   },
   "outputs": [],
   "source": [
    "# Попробую подобрать параметры для модели SVR\n",
    "#\n",
    "# kernel {‘linear’, ‘poly’, ‘rbf’, ‘sigmoid’}\n",
    "#\n",
    "# Остальные параметры подходят для разных ядер\n",
    "#\n",
    "# C, default=1.0\n",
    "# Regularization parameter"
   ]
  },
  {
   "cell_type": "code",
   "execution_count": null,
   "id": "0490bc05",
   "metadata": {
    "colab": {
     "base_uri": "https://localhost:8080/",
     "height": 81
    },
    "id": "0490bc05",
    "outputId": "8993e16b-2fa4-4e99-f470-2a2bdb0da90b"
   },
   "outputs": [],
   "source": [
    "params1 = [\n",
    "    {\n",
    "      'kernel': ['linear'],\n",
    "      'C': [0.001, 0.005, 0.01, 0.015, 0.02, 0.03]\n",
    "    },\n",
    "    {\n",
    "      'kernel': ['poly'],\n",
    "      'C': [0.001, 0.01, 0.02]\n",
    "    },\n",
    "    {\n",
    "      'kernel': ['rbf'],\n",
    "      'C': [0.01, 0.02, 0.03, 0.04]\n",
    "    },\n",
    "    {\n",
    "      'kernel': ['sigmoid'],\n",
    "      'C': [0.01, 0.02, 0.03, 0.04, 0.5]\n",
    "    }\n",
    "]\n",
    "search, smodel = run_grid_search(SVR(), params1, x1_train, y1_train)\n",
    "s_models1[str(smodel)] = smodel\n",
    "search[search['rank']==1]"
   ]
  },
  {
   "cell_type": "code",
   "execution_count": null,
   "id": "NpmhfQ4nWhGA",
   "metadata": {
    "id": "NpmhfQ4nWhGA"
   },
   "outputs": [],
   "source": [
    "# Попробую подобрать параметры для KNeighborsRegressor\n",
    "#\n",
    "# n_neighbors, default=5\n",
    "# Number of neighbors to use by default for kneighbors queries."
   ]
  },
  {
   "cell_type": "code",
   "execution_count": null,
   "id": "0aa99757",
   "metadata": {
    "colab": {
     "base_uri": "https://localhost:8080/",
     "height": 81
    },
    "id": "0aa99757",
    "outputId": "403c18d1-894d-4602-af12-e5f381a64d42"
   },
   "outputs": [],
   "source": [
    "params1 = {\n",
    "    'n_neighbors': range(3, 31, 2)\n",
    "}\n",
    "search, smodel = run_grid_search(KNeighborsRegressor(), params1, x1_train, y1_train)\n",
    "s_models1[str(smodel)] = smodel\n",
    "search[search['rank']==1]"
   ]
  },
  {
   "cell_type": "code",
   "execution_count": null,
   "id": "TuyYwspNav4r",
   "metadata": {
    "id": "TuyYwspNav4r"
   },
   "outputs": [],
   "source": [
    "# Попробую подобрать параметры для DecisionTreeRegressor\n",
    "#\n",
    "# criterion {“squared_error”, “friedman_mse”, “absolute_error”, “poisson”}\n",
    "# The function to measure the quality of a split.\n",
    "#\n",
    "# splitter{“best”, “random”}\n",
    "#\n",
    "# max_depth\n",
    "# The maximum depth of the tree\n",
    "#\n",
    "# max_features\n",
    "# The number of features to consider when looking for the best split"
   ]
  },
  {
   "cell_type": "code",
   "execution_count": null,
   "id": "4eb62f5b",
   "metadata": {
    "colab": {
     "base_uri": "https://localhost:8080/",
     "height": 81
    },
    "id": "4eb62f5b",
    "outputId": "541ecba9-62e5-47cb-ac25-5b6df368f310"
   },
   "outputs": [],
   "source": [
    "params1 = {\n",
    "    'random_state': [RANDOM_STATE],\n",
    "    'criterion': ['squared_error', 'friedman_mse', 'absolute_error', 'poisson'],\n",
    "    'splitter': ['best', 'random'],\n",
    "    'max_depth': [1, 2, 3],\n",
    "    'max_features': range(1, 11, 1)\n",
    "}\n",
    "search, smodel = run_grid_search(DecisionTreeRegressor(), params1, x1_train, y1_train)\n",
    "s_models1[str(smodel)] = smodel\n",
    "search[search['rank']==1]"
   ]
  },
  {
   "cell_type": "code",
   "execution_count": null,
   "id": "pdPxkxXmjnnN",
   "metadata": {
    "id": "pdPxkxXmjnnN"
   },
   "outputs": [],
   "source": [
    "# Попробую подобрать параметры для RandomForestRegressor\n",
    "#\n",
    "# n_estimators\n",
    "# The number of trees in the forest.\n",
    "#\n",
    "# criterion {“squared_error”, “absolute_error”, “poisson”}\n",
    "# The function to measure the quality of a split\n",
    "#\n",
    "# max_depth\n",
    "# The maximum depth of the tree\n",
    "#\n",
    "# max_features\n",
    "# The number of features to consider when looking for the best split\n",
    "#\n",
    "# bootstrap\n",
    "# Whether bootstrap samples are used when building trees"
   ]
  },
  {
   "cell_type": "code",
   "execution_count": null,
   "id": "0c00e91c",
   "metadata": {
    "colab": {
     "base_uri": "https://localhost:8080/",
     "height": 81
    },
    "id": "0c00e91c",
    "outputId": "9292d82d-3232-4fdc-b204-86b8822cc6e1"
   },
   "outputs": [],
   "source": [
    "params1 = {\n",
    "    'random_state': [RANDOM_STATE],\n",
    "    'n_estimators': [50, 100], \n",
    "    'criterion': ['absolute_error'],\n",
    "    'max_depth': [2, 3, 4, 5],\n",
    "    'max_features': [1, 2, 11],\n",
    "    'bootstrap': [False]\n",
    "}\n",
    "search, smodel = run_grid_search(RandomForestRegressor(), params1, x1_train, y1_train)\n",
    "s_models1[str(smodel)] = smodel\n",
    "search[search['rank']==10]"
   ]
  },
  {
   "cell_type": "code",
   "execution_count": null,
   "id": "efuue0eKRpyX",
   "metadata": {
    "colab": {
     "base_uri": "https://localhost:8080/",
     "height": 238
    },
    "id": "efuue0eKRpyX",
    "outputId": "014a9f6a-e40e-4f5a-8e69-d16aca96d222"
   },
   "outputs": [],
   "source": [
    "# Сравнение моделей с подобранными параметрами, поиск лучшей\n",
    "stat1_2 = run_models(s_models1, x1_train, y1_train)\n",
    "stat1_2.style.highlight_max(axis=0)"
   ]
  },
  {
   "cell_type": "markdown",
   "id": "e70a872f",
   "metadata": {
    "id": "e70a872f"
   },
   "source": [
    "Можно сделать вывод, что подбирая гиперпараметры, можно значительно улучшить предсказание выбранной модели. \n",
    "\n",
    "Все модели крайне плохо описывают исходные данные - не удалось добиться положительного значения R2. Самый лучший результат дает коэффициент детерминации близкий к нулю, что соответствует базовой модели. \n",
    "\n",
    "Линейные модели так и остались сравнимы с базовой моделью. Их характеристики улучшились, но не значительно.\n",
    "\n",
    "Метод опорных векторов в процессе подбора гиперпараметры лучшим ядром выбрал линейное и отработал аналогично линейным моделям, получил очень близкие метрики.\n",
    "\n",
    "Метод ближайших соседей увеличением количества соседей радикально улучшил качество работы. Но его лучшие результаты все равно немного, но отстают от линейных моделей.\n",
    "\n",
    "Деревья решений при кропотливом подборе параметров превзошли результат линейной модели. Но они по-прежнему не являются объясняющей зависимость моделью.\n",
    "\n",
    "Собирая деревья в ансамбли, можно еще улучшить характеристики. Но подбор параметров затруднен тем, что это затратный по времени процесс. Почему-то мне не удалось получить комбинацию параметров для леса, которая была был лучше дерева решений."
   ]
  },
  {
   "cell_type": "code",
   "execution_count": null,
   "id": "dbe27d7e",
   "metadata": {
    "id": "dbe27d7e"
   },
   "outputs": [],
   "source": [
    "# Предсказание базовой модели\n",
    "base_model1 = DummyRegressor(strategy='mean')\n",
    "base_model1.fit(x1_train, y1_train)\n",
    "y1_pred_base = base_model1.predict(x1_test)"
   ]
  },
  {
   "cell_type": "code",
   "execution_count": null,
   "id": "c61ed98a",
   "metadata": {
    "id": "c61ed98a"
   },
   "outputs": [],
   "source": [
    "# Предсказание лучшей модели\n",
    "best_model1 = DecisionTreeRegressor(criterion='absolute_error', max_depth=2, max_features=10, random_state=RANDOM_STATE, splitter='random')\n",
    "best_model1.fit(x1_train, y1_train)\n",
    "y1_pred_best = best_model1.predict(x1_test)"
   ]
  },
  {
   "cell_type": "code",
   "execution_count": null,
   "id": "3d0676e8",
   "metadata": {
    "colab": {
     "base_uri": "https://localhost:8080/",
     "height": 320
    },
    "id": "3d0676e8",
    "outputId": "0339b5f0-db6f-4275-cc34-b5804589c038"
   },
   "outputs": [],
   "source": [
    "# Визуализация\n",
    "fig, ax = plt.subplots(figsize=(12, 5))\n",
    "ax.plot(y1_test, label='Данные')\n",
    "ax.plot(y1_pred_best, label='Лучшая модель')\n",
    "ax.plot(y1_pred_base, label='Базовая модель')\n",
    "ax.legend()\n",
    "plt.show()"
   ]
  },
  {
   "cell_type": "markdown",
   "id": "BlDqUadtnsB-",
   "metadata": {
    "id": "BlDqUadtnsB-"
   },
   "source": [
    "Сложно визуализировать регрессию в многомерном пространстве. Но даже на таком графике мы видим, насколько не соответствует лучшая модель исходным данным."
   ]
  },
  {
   "cell_type": "code",
   "execution_count": null,
   "id": "lyc21n7qQ86D",
   "metadata": {
    "colab": {
     "base_uri": "https://localhost:8080/",
     "height": 112
    },
    "id": "lyc21n7qQ86D",
    "outputId": "ea65b1aa-0224-4b7b-9ec4-3bbee302303d"
   },
   "outputs": [],
   "source": [
    "# Сравнение предсказаний базовой модели и лучшей модели на тестовом множестве\n",
    "compare1 = get_metrics('Базовая модель', y1_test, y1_pred_base)\n",
    "compare1 = compare1.append(get_metrics('Лучшая модель (дерево решений)', y1_test, y1_pred_best))\n",
    "compare1"
   ]
  },
  {
   "cell_type": "markdown",
   "id": "4126f1ee",
   "metadata": {
    "id": "4126f1ee"
   },
   "source": [
    "### Модель для прочности при растяжении, МПа"
   ]
  },
  {
   "cell_type": "code",
   "execution_count": null,
   "id": "ea6f63cd",
   "metadata": {
    "colab": {
     "base_uri": "https://localhost:8080/"
    },
    "id": "ea6f63cd",
    "outputId": "84fe85c3-fddd-4f39-dc4d-bca064bd7cb6"
   },
   "outputs": [],
   "source": [
    "# Разделяем на тренировочную и тестовую выборку\n",
    "x2_train_raw, x2_test_raw, y2_train, y2_test = train_test_split(x2, y2, test_size=0.3, random_state=RANDOM_STATE)\n",
    "print('x2_train:', x2_train_raw.shape, 'y2_train:', y2_train.shape)\n",
    "print('x2_test:', x2_test_raw.shape, 'y2_test:', y2_test.shape)"
   ]
  },
  {
   "cell_type": "code",
   "execution_count": null,
   "id": "df679ac3",
   "metadata": {
    "id": "df679ac3"
   },
   "outputs": [],
   "source": [
    "# Выполняю препроцессинг входных переменных\n",
    "x2_test = preprocessor2.fit_transform(x2_test_raw)\n",
    "x2_train = preprocessor2.transform(x2_train_raw)"
   ]
  },
  {
   "cell_type": "code",
   "execution_count": null,
   "id": "396c04f4",
   "metadata": {
    "id": "396c04f4"
   },
   "outputs": [],
   "source": [
    "# Выходная переменная преобразованиям не подвергается\n",
    "y2_train = y2_train['Прочность при растяжении, МПа'].values\n",
    "y2_test = y2_test['Прочность при растяжении, МПа'].values"
   ]
  },
  {
   "cell_type": "code",
   "execution_count": null,
   "id": "343cfef7",
   "metadata": {
    "colab": {
     "base_uri": "https://localhost:8080/",
     "height": 210
    },
    "id": "343cfef7",
    "outputId": "d9e2778f-9604-481a-b601-58d1b530b39c"
   },
   "outputs": [],
   "source": [
    "# Описательная статистика входных данных до предобработки\n",
    "show_statistics(x2_train_raw)"
   ]
  },
  {
   "cell_type": "code",
   "execution_count": null,
   "id": "217008b9",
   "metadata": {
    "colab": {
     "base_uri": "https://localhost:8080/",
     "height": 210
    },
    "id": "217008b9",
    "outputId": "fe4a2b16-d916-48da-918c-6e53f0981345"
   },
   "outputs": [],
   "source": [
    "# Описательная статистика входных данных после предобработки\n",
    "show_statistics(pd.DataFrame(x2_train, columns=(x2_continuous + x_categorical)))"
   ]
  },
  {
   "cell_type": "code",
   "execution_count": null,
   "id": "89a056eb",
   "metadata": {
    "colab": {
     "base_uri": "https://localhost:8080/",
     "height": 175
    },
    "id": "89a056eb",
    "outputId": "ea68d83d-78af-4caf-f157-4ab011a948ba"
   },
   "outputs": [],
   "source": [
    "# Описательная статистика выходной переменной\n",
    "show_statistics(y2_train)"
   ]
  },
  {
   "cell_type": "code",
   "execution_count": null,
   "id": "13aa667b",
   "metadata": {
    "colab": {
     "base_uri": "https://localhost:8080/",
     "height": 269
    },
    "id": "13aa667b",
    "outputId": "9ead8a1b-8474-4c89-fff2-5991c83a37ee"
   },
   "outputs": [],
   "source": [
    "# Запускаю различные модели с параметрами по умолчанию\n",
    "models2_def = {\n",
    "    'DummyRegressor': DummyRegressor(strategy='mean'),\n",
    "    'LinearRegression': LinearRegression(),\n",
    "    'Ridge': Ridge(),\n",
    "    'Lasso': Lasso(),\n",
    "    'SVR': SVR(),\n",
    "    'DecisionTreeRegressor': DecisionTreeRegressor(random_state=RANDOM_STATE),\n",
    "    'GradientBoostingRegressor': GradientBoostingRegressor(random_state=RANDOM_STATE)    \n",
    "}\n",
    "\n",
    "stat2_1 = run_models(models2_def, x2_train, y2_train)\n",
    "stat2_1.style.highlight_max(axis=0)"
   ]
  },
  {
   "cell_type": "markdown",
   "id": "a3Q-BgVh_nuf",
   "metadata": {
    "id": "a3Q-BgVh_nuf"
   },
   "source": [
    "Ни одна из выбранных мной моделей не соответствует данным.\n",
    "\n",
    "R2 близок к 0 для линейных моделей и метода опорных векторов. Значит, они не лучше базовой модели. И остальные метрики у них примерно совпадают с базовой моделью.\n",
    "\n",
    "Гораздо хуже линейных с гиперпараметрами по умолчанию отработали деревья решений.\n",
    "\n",
    "Градиентный бустинг с параметрами по умолчанию отработал лучше дерева, сравнимо с базовой моделью."
   ]
  },
  {
   "cell_type": "code",
   "execution_count": null,
   "id": "y0Jkf7DoTYdQ",
   "metadata": {
    "id": "y0Jkf7DoTYdQ"
   },
   "outputs": [],
   "source": [
    "# Приступаем к поиску лучших моделей\n",
    "s_models2 = {}"
   ]
  },
  {
   "cell_type": "code",
   "execution_count": null,
   "id": "MZMAhXFXDa_O",
   "metadata": {
    "id": "MZMAhXFXDa_O"
   },
   "outputs": [],
   "source": [
    "# Попробую подобрать параметры для модели Ridge\n",
    "#\n",
    "# alpha, default=1.0\n",
    "# Regularization strength; must be a positive float\n",
    "#\n",
    "# solver {‘auto’, ‘svd’, ‘cholesky’, ‘lsqr’, ‘sparse_cg’, ‘sag’, ‘saga’, ‘lbfgs’}, default=’auto’\n",
    "# Solver to use in the computational routines\n",
    "#\n",
    "# random_state - только для ‘sag’, ‘saga’\n",
    "#\n",
    "# positive - только для ‘lbfgs’"
   ]
  },
  {
   "cell_type": "code",
   "execution_count": null,
   "id": "49638f2b",
   "metadata": {
    "colab": {
     "base_uri": "https://localhost:8080/",
     "height": 81
    },
    "id": "49638f2b",
    "outputId": "15f49eb3-1aa6-4eb5-c532-be539ae72683"
   },
   "outputs": [],
   "source": [
    "params2 = [\n",
    "  {\n",
    "    'solver': ['auto', 'svd', 'cholesky', 'lsqr', 'sparse_cg'],\n",
    "    'alpha': range(10, 1000, 10)\n",
    "  },\n",
    "  {\n",
    "    'solver': ['sag', 'saga'],\n",
    "    'alpha': range(10, 1000, 10),\n",
    "    'random_state': [RANDOM_STATE]\n",
    "  },\n",
    "  {\n",
    "    'solver': ['lbfgs'],\n",
    "    'alpha': range(10, 1000, 10),\n",
    "    'positive': [True]\n",
    "  }\n",
    "]\n",
    "search, smodel = run_grid_search(Ridge(), params2, x2_train, y2_train)\n",
    "s_models2[str(smodel)] = smodel\n",
    "search[search['rank']==1]"
   ]
  },
  {
   "cell_type": "code",
   "execution_count": null,
   "id": "foiogv0vONcc",
   "metadata": {
    "id": "foiogv0vONcc"
   },
   "outputs": [],
   "source": [
    "# Попробую подобрать параметры для модели Lasso\n",
    "#\n",
    "# alpha, default=1.0\n",
    "# Constant that multiplies the L1 term. "
   ]
  },
  {
   "cell_type": "code",
   "execution_count": null,
   "id": "90f7915e",
   "metadata": {
    "colab": {
     "base_uri": "https://localhost:8080/",
     "height": 143
    },
    "id": "90f7915e",
    "outputId": "47ff447a-cb34-430c-962a-bdfcb3452942"
   },
   "outputs": [],
   "source": [
    "params2 = [\n",
    "  {\n",
    "    'alpha': [0.1, 1, 5, 10, 20, 30, 40, 50, 60, 100]\n",
    "  }\n",
    "]\n",
    "search, smodel = run_grid_search(Lasso(), params2, x2_train, y2_train)\n",
    "s_models2[str(smodel)] = smodel\n",
    "search[search['rank']==1]"
   ]
  },
  {
   "cell_type": "code",
   "execution_count": null,
   "id": "At5rAiw4X6NU",
   "metadata": {
    "id": "At5rAiw4X6NU"
   },
   "outputs": [],
   "source": [
    "# Попробую подобрать параметры для модели SVR\n",
    "#\n",
    "# kernel {‘linear’, ‘poly’, ‘rbf’, ‘sigmoid’}\n",
    "#\n",
    "# Остальные параметры подходят для разных ядер\n",
    "#\n",
    "# C, default=1.0\n",
    "# Regularization parameter"
   ]
  },
  {
   "cell_type": "code",
   "execution_count": null,
   "id": "61c3f952",
   "metadata": {
    "colab": {
     "base_uri": "https://localhost:8080/",
     "height": 81
    },
    "id": "61c3f952",
    "outputId": "8b67bc47-e531-47b1-8447-71dc92e686ea"
   },
   "outputs": [],
   "source": [
    "params2 = [\n",
    "    {\n",
    "      'kernel': ['linear'],\n",
    "      'C': [0.001, 0.01, 0.02]\n",
    "    },\n",
    "    {\n",
    "      'kernel': ['poly'],\n",
    "      'C': [0.001, 0.01, 0.02]\n",
    "    },\n",
    "    {\n",
    "      'kernel': ['rbf'],\n",
    "      'gamma': ['scale', 'auto'],\n",
    "      'C': [0.01, 0.05, 0.1, 0.2, 0.3]\n",
    "    },\n",
    "    {\n",
    "      'kernel': ['sigmoid'],\n",
    "      'C': [0.001, 0.01, 0.1]\n",
    "    }\n",
    "]\n",
    "\n",
    "search, smodel = run_grid_search(SVR(), params2, x2_train, y2_train)\n",
    "s_models2[str(smodel)] = smodel\n",
    "search[search['rank']==1]"
   ]
  },
  {
   "cell_type": "code",
   "execution_count": null,
   "id": "pIBMiTJwpZ8P",
   "metadata": {
    "id": "pIBMiTJwpZ8P"
   },
   "outputs": [],
   "source": [
    "# Попробую подобрать параметры для DecisionTreeRegressor\n",
    "#\n",
    "# criterion {“squared_error”, “friedman_mse”, “absolute_error”, “poisson”}\n",
    "# The function to measure the quality of a split.\n",
    "#\n",
    "# splitter{“best”, “random”}\n",
    "#\n",
    "# max_depth\n",
    "# The maximum depth of the tree\n",
    "#\n",
    "# max_features\n",
    "# The number of features to consider when looking for the best split"
   ]
  },
  {
   "cell_type": "code",
   "execution_count": null,
   "id": "p8dKTEH4phpU",
   "metadata": {
    "colab": {
     "base_uri": "https://localhost:8080/",
     "height": 81
    },
    "id": "p8dKTEH4phpU",
    "outputId": "f5b52934-e0c0-411e-c593-73e8f934a400"
   },
   "outputs": [],
   "source": [
    "params2 = {\n",
    "    'random_state': [RANDOM_STATE],\n",
    "    'criterion': ['squared_error', 'friedman_mse', 'absolute_error', 'poisson'],\n",
    "    'splitter': ['best', 'random'],\n",
    "    'max_depth': [1, 2, 3],\n",
    "    'max_features': range(1, 11, 1)\n",
    "}\n",
    "search, smodel = run_grid_search(DecisionTreeRegressor(), params2, x2_train, y2_train)\n",
    "s_models2[str(smodel)] = smodel\n",
    "search[search['rank']==1]"
   ]
  },
  {
   "cell_type": "code",
   "execution_count": null,
   "id": "RvNskcVzpXT4",
   "metadata": {
    "id": "RvNskcVzpXT4"
   },
   "outputs": [],
   "source": [
    "# Попробую подобрать параметры для модели GradientBoostingRegressor\n",
    "#\n",
    "# n_estimators\n",
    "# The number of boosting stages to perform\n",
    "#\n",
    "# loss {‘squared_error’, ‘absolute_error’, ‘huber’, ‘quantile’}\n",
    "# Loss function to be optimized\n",
    "#\n",
    "# criterion{‘friedman_mse’, ‘squared_error’, ‘mse’, ‘mae’}\n",
    "# The function to measure the quality of a split\n",
    "#\n",
    "# max_depth\n",
    "# The maximum depth of the tree\n",
    "#\n",
    "# max_features\n",
    "# The number of features to consider when looking for the best split"
   ]
  },
  {
   "cell_type": "code",
   "execution_count": null,
   "id": "79624eb1",
   "metadata": {
    "colab": {
     "base_uri": "https://localhost:8080/",
     "height": 81
    },
    "id": "79624eb1",
    "outputId": "2dc4cf05-261a-4fc6-84c5-2a7702401612"
   },
   "outputs": [],
   "source": [
    "params2 = {\n",
    "    'random_state': [RANDOM_STATE],\n",
    "    'loss': ['squared_error', 'absolute_error'], \n",
    "    #'criterion': ['friedman_mse', 'squared_error'],\n",
    "    'n_estimators': [50, 100, 150],\n",
    "    'max_depth': [1, 2, 3],\n",
    "    'max_features': [1, 2, 5, 11]    \n",
    "}\n",
    "search, smodel = run_grid_search(GradientBoostingRegressor(), params2, x2_train, y2_train)\n",
    "s_models2[str(smodel)] = smodel\n",
    "search[search['rank']==1]"
   ]
  },
  {
   "cell_type": "code",
   "execution_count": null,
   "id": "1HcPDBdxTwyR",
   "metadata": {
    "colab": {
     "base_uri": "https://localhost:8080/",
     "height": 206
    },
    "id": "1HcPDBdxTwyR",
    "outputId": "399a9a20-98b8-4d36-88f8-c3abf715ae9e"
   },
   "outputs": [],
   "source": [
    "# Сравнение моделей с подобранными параметрами, поиск лучшей\n",
    "stat2_2 = run_models(s_models2, x2_train, y2_train)\n",
    "stat2_2.style.highlight_max(axis=0)"
   ]
  },
  {
   "cell_type": "markdown",
   "id": "1ec47b5b",
   "metadata": {
    "id": "1ec47b5b"
   },
   "source": [
    "Так же попробовала несколько линейных моделей и ансамбли. Результаты аналогичны полученным в предыдущем подразделе, за исключением того, что здесь я попробовала GradientBoosting. После подбора параметров он оказался немного лучше остальных моделей. Но по-прежнему крайне плохо описывает исходные данные и не может применяться в рабочем приложении."
   ]
  },
  {
   "cell_type": "markdown",
   "id": "rzTqUFcgDXYR",
   "metadata": {
    "id": "rzTqUFcgDXYR"
   },
   "source": [
    "Подбор гиперпараметров - интересный процесс. Но нам он не помог получить модель, превосходящую базовую. Все модели крайне плохо описывают исходные данные. Не удалось добиться коэффициента детерминации, большего нуля.\n",
    "\n",
    "Линейные после подбора немного улучшили характеристики. \n",
    "\n",
    "Метод опорных векторов отработал аналогично линейным моделям.\n",
    "\n",
    "Деревья решений после подбора параметров улучшили неудачный результат с параметрами по умолчанию.\n",
    "\n",
    "Но лучший результат дает градиентный бустинг. Значения ошибок примерно такие же, как у дерева решений. Но коэффициент детерминации немного больше, что показывает чуть лучшую объясняющую способность модели."
   ]
  },
  {
   "cell_type": "code",
   "execution_count": null,
   "id": "1e1cdbd9",
   "metadata": {
    "id": "1e1cdbd9"
   },
   "outputs": [],
   "source": [
    "# Предсказание базовой модели\n",
    "base_model2 = DummyRegressor(strategy='mean')\n",
    "base_model2.fit(x2_train, y2_train)\n",
    "y2_pred_base = base_model2.predict(x2_test)"
   ]
  },
  {
   "cell_type": "code",
   "execution_count": null,
   "id": "a6fc7605",
   "metadata": {
    "id": "a6fc7605"
   },
   "outputs": [],
   "source": [
    "# Предсказание лучшей модели\n",
    "best_model2 = GradientBoostingRegressor(max_depth=1, max_features=1, n_estimators=50, random_state=RANDOM_STATE)\n",
    "best_model2.fit(x2_train, y2_train)\n",
    "y2_pred_best = best_model2.predict(x2_test)"
   ]
  },
  {
   "cell_type": "code",
   "execution_count": null,
   "id": "111d98bd",
   "metadata": {
    "colab": {
     "base_uri": "https://localhost:8080/",
     "height": 320
    },
    "id": "111d98bd",
    "outputId": "b0585708-f0fa-4bac-d029-f456ba55f8c4"
   },
   "outputs": [],
   "source": [
    "# Визуализация\n",
    "fig, ax = plt.subplots(figsize=(12, 5))\n",
    "ax.plot(y2_test, label='Данные')\n",
    "ax.plot(y2_pred_best, label='Лучшая модель')\n",
    "ax.plot(y2_pred_base, label='Базовая модель')\n",
    "ax.legend()\n",
    "plt.show()"
   ]
  },
  {
   "cell_type": "markdown",
   "id": "B-Ii93vyFRaC",
   "metadata": {
    "id": "B-Ii93vyFRaC"
   },
   "source": [
    "Визуализируя результаты градиентного бустинга с выбранными параметрами, мы видим насколько они плохи и далеки от исходных данных. Но результаты выглядят более \"естественно\", чем те, что получены деревом решений для модуля упругости при растяжении."
   ]
  },
  {
   "cell_type": "code",
   "execution_count": null,
   "id": "cYY3IgZHTr2b",
   "metadata": {
    "colab": {
     "base_uri": "https://localhost:8080/",
     "height": 112
    },
    "id": "cYY3IgZHTr2b",
    "outputId": "f3364cfd-e72b-4e36-ecd7-89324e21d48d"
   },
   "outputs": [],
   "source": [
    "# Сравнение предсказаний базовой модели и лучшей модели на тестовом множестве\n",
    "compare2 = get_metrics('Базовая модель', y2_test, y2_pred_base)\n",
    "compare2 = compare2.append(get_metrics('Лучшая модель (градиентный бустинг)', y2_test, y2_pred_best))\n",
    "compare2"
   ]
  },
  {
   "cell_type": "markdown",
   "id": "bbe6066f",
   "metadata": {
    "id": "bbe6066f"
   },
   "source": [
    "### Модель для соотношения матрица-наполнитель"
   ]
  },
  {
   "cell_type": "code",
   "execution_count": null,
   "id": "a4495468",
   "metadata": {
    "colab": {
     "base_uri": "https://localhost:8080/"
    },
    "id": "a4495468",
    "outputId": "d7897220-118d-40ab-eb40-7cac1e6834ef"
   },
   "outputs": [],
   "source": [
    "# Разделяем на тренировочную и тестовую выборку\n",
    "x3_train_raw, x3_test_raw, y3_train, y3_test = train_test_split(x3, y3, test_size=0.3, random_state=RANDOM_STATE)\n",
    "print('x3_train:', x3_train_raw.shape, 'y3_train:', y3_train.shape)\n",
    "print('x3_test:', x3_test_raw.shape, 'y3_test:', y3_test.shape)"
   ]
  },
  {
   "cell_type": "code",
   "execution_count": null,
   "id": "6afeb1df",
   "metadata": {
    "id": "6afeb1df"
   },
   "outputs": [],
   "source": [
    "# Выполняю препроцессинг входных переменных\n",
    "x3_test = preprocessor3.fit_transform(x3_test_raw)\n",
    "x3_train = preprocessor3.transform(x3_train_raw)"
   ]
  },
  {
   "cell_type": "code",
   "execution_count": null,
   "id": "a8f6773a",
   "metadata": {
    "id": "a8f6773a"
   },
   "outputs": [],
   "source": [
    "# Выходная переменная преобразованиям не подвергается\n",
    "y3_train = y3_train['Соотношение матрица-наполнитель'].values\n",
    "y3_test = y3_test['Соотношение матрица-наполнитель'].values"
   ]
  },
  {
   "cell_type": "code",
   "execution_count": null,
   "id": "d772b535",
   "metadata": {
    "colab": {
     "base_uri": "https://localhost:8080/",
     "height": 264
    },
    "id": "d772b535",
    "outputId": "ede023b6-b62a-4a6a-c1eb-500b7368a52d"
   },
   "outputs": [],
   "source": [
    "# Описательная статистика входных данных до предобработки\n",
    "show_statistics(x3_train_raw)"
   ]
  },
  {
   "cell_type": "code",
   "execution_count": null,
   "id": "8177b119",
   "metadata": {
    "colab": {
     "base_uri": "https://localhost:8080/",
     "height": 244
    },
    "id": "8177b119",
    "outputId": "c3e950f8-12f7-4734-af47-76b059d39f16"
   },
   "outputs": [],
   "source": [
    "# Описательная статистика входных данных после предобработки\n",
    "show_statistics(pd.DataFrame(x3_train, columns=(x3_continuous + x_categorical)))"
   ]
  },
  {
   "cell_type": "code",
   "execution_count": null,
   "id": "e3c70644",
   "metadata": {
    "colab": {
     "base_uri": "https://localhost:8080/",
     "height": 175
    },
    "id": "e3c70644",
    "outputId": "4216f381-f498-484d-a848-d82cd23f1614"
   },
   "outputs": [],
   "source": [
    "# Описательная статистика выходной переменной\n",
    "show_statistics(y3_train)"
   ]
  },
  {
   "cell_type": "markdown",
   "id": "RKJtR-tCIFCK",
   "metadata": {
    "id": "RKJtR-tCIFCK"
   },
   "source": [
    "По заданию для соотношения матрица-наполнитель необходимо построить нейросеть. \n",
    "\n",
    "Но базовая модель DummyRegressor, возвращающая среднее, для оценки качества модели тоже понадобится."
   ]
  },
  {
   "cell_type": "code",
   "execution_count": null,
   "id": "Ql9chHgFHZwg",
   "metadata": {
    "id": "Ql9chHgFHZwg"
   },
   "outputs": [],
   "source": [
    "# Базовая модель\n",
    "base_model3 = DummyRegressor(strategy='mean')"
   ]
  },
  {
   "cell_type": "code",
   "execution_count": null,
   "id": "09186ed7",
   "metadata": {
    "id": "09186ed7"
   },
   "outputs": [],
   "source": [
    "# Предсказание базовой модели\n",
    "base_model3.fit(x3_train, y3_train)\n",
    "y3_pred_base = base_model3.predict(x3_test)"
   ]
  },
  {
   "cell_type": "markdown",
   "id": "969e33d6",
   "metadata": {
    "id": "969e33d6"
   },
   "source": [
    "Попробую модель MLPRegressor из библиотеки sklearn."
   ]
  },
  {
   "cell_type": "code",
   "execution_count": null,
   "id": "0889faf4",
   "metadata": {
    "id": "0889faf4"
   },
   "outputs": [],
   "source": [
    "from sklearn.neural_network import MLPRegressor"
   ]
  },
  {
   "cell_type": "code",
   "execution_count": null,
   "id": "ebf311ad",
   "metadata": {
    "id": "ebf311ad"
   },
   "outputs": [],
   "source": [
    "# Настраиваю нейросеть\n",
    "model3_1 = MLPRegressor(\n",
    "    hidden_layer_sizes = (24, 24, 24, 24, 24, 24, 24, 24),\n",
    "    activation = 'relu',\n",
    "    solver='adam',\n",
    "    max_iter=5000,\n",
    "    early_stopping = True,\n",
    "    validation_fraction = 0.3,\n",
    "    random_state=RANDOM_STATE, \n",
    "    verbose=True\n",
    ")"
   ]
  },
  {
   "cell_type": "code",
   "execution_count": null,
   "id": "bc56d84f",
   "metadata": {
    "colab": {
     "base_uri": "https://localhost:8080/"
    },
    "id": "bc56d84f",
    "outputId": "76bc8c41-4621-4da6-d469-d73048ffb661"
   },
   "outputs": [],
   "source": [
    "%%time\n",
    "# Запускаю нейросеть\n",
    "model3_1.fit(x3_train, y3_train)"
   ]
  },
  {
   "cell_type": "code",
   "execution_count": null,
   "id": "d80b6396",
   "metadata": {
    "colab": {
     "base_uri": "https://localhost:8080/",
     "height": 265
    },
    "id": "d80b6396",
    "outputId": "84401537-1602-4542-b2f7-3d1e79fe6f9e"
   },
   "outputs": [],
   "source": [
    "# График ошибки\n",
    "plt.plot(model3_1.loss_curve_)\n",
    "plt.grid(True)\n",
    "plt.show()"
   ]
  },
  {
   "cell_type": "code",
   "execution_count": null,
   "id": "67042550",
   "metadata": {
    "id": "67042550"
   },
   "outputs": [],
   "source": [
    "# Предсказание нейросети\n",
    "y3_pred_skl = model3_1.predict(x3_test)"
   ]
  },
  {
   "cell_type": "code",
   "execution_count": null,
   "id": "8564c4ca",
   "metadata": {
    "colab": {
     "base_uri": "https://localhost:8080/",
     "height": 265
    },
    "id": "8564c4ca",
    "outputId": "44f3eac4-cf2b-47e4-d9f1-13ec2d98b814"
   },
   "outputs": [],
   "source": [
    "# Визуализация\n",
    "fig, ax = plt.subplots(figsize=(12, 4))\n",
    "ax.plot(y3_test, label='Данные')\n",
    "ax.plot(y3_pred_skl, label='Лучшая модель')\n",
    "ax.plot(y3_pred_base, label='Базовая модель')\n",
    "ax.legend()\n",
    "plt.show()"
   ]
  },
  {
   "cell_type": "code",
   "execution_count": null,
   "id": "QARALUdvO-Jo",
   "metadata": {
    "colab": {
     "base_uri": "https://localhost:8080/",
     "height": 112
    },
    "id": "QARALUdvO-Jo",
    "outputId": "b93371d2-6933-472c-d1cd-e8b54935e939"
   },
   "outputs": [],
   "source": [
    "# Сравнение предсказаний базовой модели и лучшей модели на тестовом множестве\n",
    "compare3_1 = get_metrics('DummyRegressor', y3_test, y3_pred_base)\n",
    "compare3_1 = compare3_1.append(get_metrics('MLPRegressor', y3_test, y3_pred_skl))\n",
    "compare3_1"
   ]
  },
  {
   "cell_type": "markdown",
   "id": "8794e121",
   "metadata": {
    "id": "8794e121"
   },
   "source": [
    "Нейросеть, построенная с помощью MLPRegressor, возвращает данные, похожие на исходные. Но ошибка  по всем метрикам значительно хуже, чем у базовой модели. Возможно, ошибку можно уменьшить, экспериментируя со структурой нейросети."
   ]
  },
  {
   "cell_type": "code",
   "execution_count": null,
   "id": "c50dcb35",
   "metadata": {
    "id": "c50dcb35"
   },
   "outputs": [],
   "source": [
    "# Попробую построить нейронную сеть с помощью библиотеки TensorFlow."
   ]
  },
  {
   "cell_type": "code",
   "execution_count": null,
   "id": "8o_ZT3r2F06t",
   "metadata": {
    "id": "8o_ZT3r2F06t"
   },
   "outputs": [],
   "source": [
    "# Функция, собирающая нейросеть заданной архитектуры\n",
    "def construct_model():\n",
    "    return tf.keras.Sequential([\n",
    "      keras.layers.Input(shape=(12,), name='in'),                   \n",
    "      keras.layers.Dense(units=24, activation='relu', name='dense_1'),\n",
    "      keras.layers.Dense(units=24, activation='relu', name='dense_2'),\n",
    "      keras.layers.Dense(units=24, activation='relu', name='dense_3'),\n",
    "      keras.layers.Dense(units=24, activation='relu', name='dense_4'),\n",
    "      keras.layers.Dense(units=24, activation='relu', name='dense_5'),\n",
    "      keras.layers.Dense(units=24, activation='relu', name='dense_6'),\n",
    "      keras.layers.Dense(units=24, activation='relu', name='dense_7'),\n",
    "      keras.layers.Dense(units=24, activation='relu', name='dense_8'),\n",
    "      keras.layers.Dense(units=1, name='out')                        \n",
    "    ])"
   ]
  },
  {
   "cell_type": "code",
   "execution_count": null,
   "id": "EoWtHXL3IAPv",
   "metadata": {
    "id": "EoWtHXL3IAPv"
   },
   "outputs": [],
   "source": [
    "# Функция, компилирующая нейросеть с заданными параметрами\n",
    "def compile_model(model):\n",
    "    model.compile(\n",
    "      optimizer=keras.optimizers.Adam(),\n",
    "      loss=keras.losses.MeanAbsolutePercentageError(),\n",
    "      metrics=[tf.keras.metrics.RootMeanSquaredError()]\n",
    "    )\n",
    "    return model\n"
   ]
  },
  {
   "cell_type": "code",
   "execution_count": null,
   "id": "Raq3xCapAtLs",
   "metadata": {
    "id": "Raq3xCapAtLs"
   },
   "outputs": [],
   "source": [
    "# Функция для построения графика ошибки\n",
    "def plot_loss(history):\n",
    "  fig, axes = plt.subplots(1, 2, figsize=(12, 5))\n",
    "  axes[0].plot(history['loss'], label='loss')\n",
    "  axes[0].plot(history['val_loss'], label='val_loss')\n",
    "  axes[0].set_xlabel('Эпоха')\n",
    "  axes[0].set_ylabel('MAPE')\n",
    "  axes[0].legend()\n",
    "  axes[0].grid(True)\n",
    "  axes[1].plot(history['root_mean_squared_error'], label='loss')\n",
    "  axes[1].plot(history['val_root_mean_squared_error'], label='val_loss')\n",
    "  axes[1].set_xlabel('Эпоха')\n",
    "  axes[1].set_ylabel('RMSE')\n",
    "  axes[1].legend()\n",
    "  axes[1].grid(True)\n",
    "  plt.show()"
   ]
  },
  {
   "cell_type": "code",
   "execution_count": null,
   "id": "N1D3-hfBGcsQ",
   "metadata": {
    "id": "N1D3-hfBGcsQ"
   },
   "outputs": [],
   "source": [
    "# Собираю нейросеть\n",
    "model3_2 = construct_model()"
   ]
  },
  {
   "cell_type": "code",
   "execution_count": null,
   "id": "aGCsjC6RIzWU",
   "metadata": {
    "id": "aGCsjC6RIzWU"
   },
   "outputs": [],
   "source": [
    "# Компилирую нейросеть\n",
    "model3_2 = compile_model(model3_2)"
   ]
  },
  {
   "cell_type": "code",
   "execution_count": null,
   "id": "54fc3bcd",
   "metadata": {
    "colab": {
     "base_uri": "https://localhost:8080/"
    },
    "id": "54fc3bcd",
    "outputId": "24675b67-cced-498e-84f4-2a7b4991a2d8"
   },
   "outputs": [],
   "source": [
    "# Сводная информация по архитектуре сети\n",
    "model3_2.summary()"
   ]
  },
  {
   "cell_type": "code",
   "execution_count": null,
   "id": "l41O3cIuFRrb",
   "metadata": {
    "colab": {
     "base_uri": "https://localhost:8080/",
     "height": 1000
    },
    "id": "l41O3cIuFRrb",
    "outputId": "38202655-e033-4afa-9fa2-1c17e5dd6c3a"
   },
   "outputs": [],
   "source": [
    "# Архитектура нейросети визуально\n",
    "keras.utils.plot_model(model3_2, show_shapes=True, show_layer_names=True, show_layer_activations=True)"
   ]
  },
  {
   "cell_type": "code",
   "execution_count": null,
   "id": "05d8d6c8",
   "metadata": {
    "colab": {
     "base_uri": "https://localhost:8080/"
    },
    "id": "05d8d6c8",
    "outputId": "ee4596ed-1fbf-4981-f662-5c83813d3c5e"
   },
   "outputs": [],
   "source": [
    "%%time\n",
    "#Обучение нейросети\n",
    "history = model3_2.fit(\n",
    "  x3_train, \n",
    "  y3_train, \n",
    "  epochs=50, \n",
    "  validation_split=0.3, \n",
    "  verbose=1\n",
    ")"
   ]
  },
  {
   "cell_type": "code",
   "execution_count": null,
   "id": "LA3VIYRKA3sm",
   "metadata": {
    "colab": {
     "base_uri": "https://localhost:8080/",
     "height": 334
    },
    "id": "LA3VIYRKA3sm",
    "outputId": "be7485df-c21f-4128-a143-b2a0d8a517d0"
   },
   "outputs": [],
   "source": [
    "plot_loss(history.history)"
   ]
  },
  {
   "cell_type": "code",
   "execution_count": null,
   "id": "t0HUZDcjIvFS",
   "metadata": {
    "colab": {
     "base_uri": "https://localhost:8080/"
    },
    "id": "t0HUZDcjIvFS",
    "outputId": "803d1588-b581-4f74-f705-b1f48ef94148"
   },
   "outputs": [],
   "source": [
    "# Проверяем точность нейросети на тестовых данных\n",
    "model3_2.evaluate(x3_test, y3_test)"
   ]
  },
  {
   "cell_type": "code",
   "execution_count": null,
   "id": "5JgZWlsZZyRh",
   "metadata": {
    "id": "5JgZWlsZZyRh"
   },
   "outputs": [],
   "source": [
    "# Предсказание \n",
    "y3_pred_keras2 = model3_2.predict(x3_test)"
   ]
  },
  {
   "cell_type": "code",
   "execution_count": null,
   "id": "X-ZzvNlyZ-iQ",
   "metadata": {
    "colab": {
     "base_uri": "https://localhost:8080/",
     "height": 265
    },
    "id": "X-ZzvNlyZ-iQ",
    "outputId": "e7e3415d-4413-46c2-e293-1bf496e8ec91"
   },
   "outputs": [],
   "source": [
    "# Визуализация\n",
    "fig, ax = plt.subplots(figsize=(14, 4))\n",
    "ax.plot(y3_test, label='Данные')\n",
    "ax.plot(y3_pred_keras2, label='Нейросеть переобученная')\n",
    "ax.plot(y3_pred_base, label='Базовая модель')\n",
    "ax.legend()\n",
    "plt.show()"
   ]
  },
  {
   "cell_type": "markdown",
   "id": "3MACvXcSAK82",
   "metadata": {
    "id": "3MACvXcSAK82"
   },
   "source": [
    "Попробуем раннюю остановку процесса обучения для борьбы с переобучением"
   ]
  },
  {
   "cell_type": "code",
   "execution_count": null,
   "id": "lBHz70bFBYD0",
   "metadata": {
    "id": "lBHz70bFBYD0"
   },
   "outputs": [],
   "source": [
    "# Создаем модель с той же архитектурой\n",
    "model3_3 = construct_model()\n",
    "model3_3 = compile_model(model3_3)"
   ]
  },
  {
   "cell_type": "code",
   "execution_count": null,
   "id": "9R41AfPqCSqS",
   "metadata": {
    "colab": {
     "base_uri": "https://localhost:8080/"
    },
    "id": "9R41AfPqCSqS",
    "outputId": "cde3608c-f021-4a56-9eb0-def1b94585e0"
   },
   "outputs": [],
   "source": [
    "%%time\n",
    "#Обучение нейросети\n",
    "history = model3_3.fit(\n",
    "  x3_train, \n",
    "  y3_train, \n",
    "  epochs=50, \n",
    "  validation_split=0.3, \n",
    "  verbose=1,\n",
    "  callbacks=[keras.callbacks.EarlyStopping(monitor='val_loss', patience=3)]\n",
    ")"
   ]
  },
  {
   "cell_type": "code",
   "execution_count": null,
   "id": "GOprfZHkDQh0",
   "metadata": {
    "colab": {
     "base_uri": "https://localhost:8080/",
     "height": 334
    },
    "id": "GOprfZHkDQh0",
    "outputId": "b504a4f8-9dff-43e1-9bae-628ef9e21312"
   },
   "outputs": [],
   "source": [
    "plot_loss(history.history)"
   ]
  },
  {
   "cell_type": "code",
   "execution_count": null,
   "id": "n-kjiMEND2g2",
   "metadata": {
    "colab": {
     "base_uri": "https://localhost:8080/"
    },
    "id": "n-kjiMEND2g2",
    "outputId": "08be04d7-d461-4374-deb3-0739938494df"
   },
   "outputs": [],
   "source": [
    "# Проверяем точность нейросети на тестовых данных\n",
    "model3_3.evaluate(x3_test, y3_test)"
   ]
  },
  {
   "cell_type": "code",
   "execution_count": null,
   "id": "LPjO6kwMZ1Xw",
   "metadata": {
    "id": "LPjO6kwMZ1Xw"
   },
   "outputs": [],
   "source": [
    "# Предсказание \n",
    "y3_pred_keras3 = model3_3.predict(x3_test)"
   ]
  },
  {
   "cell_type": "code",
   "execution_count": null,
   "id": "kpUDxzfxaEJi",
   "metadata": {
    "colab": {
     "base_uri": "https://localhost:8080/",
     "height": 265
    },
    "id": "kpUDxzfxaEJi",
    "outputId": "4749199b-781d-47f1-e97e-1d808509bc1a"
   },
   "outputs": [],
   "source": [
    "# Визуализация\n",
    "fig, ax = plt.subplots(figsize=(14, 4))\n",
    "ax.plot(y3_test, label='Данные')\n",
    "ax.plot(y3_pred_keras3, label='Нейросеть с ранней остановкой')\n",
    "ax.plot(y3_pred_base, label='Базовая модель')\n",
    "ax.legend()\n",
    "plt.show()"
   ]
  },
  {
   "cell_type": "markdown",
   "id": "aSJJ4J9ZSJyG",
   "metadata": {
    "id": "aSJJ4J9ZSJyG"
   },
   "source": [
    "Еще одним методом борьбы с переобучением является добавление Dropout-слоя."
   ]
  },
  {
   "cell_type": "code",
   "execution_count": null,
   "id": "yKAfEVdXOY09",
   "metadata": {
    "id": "yKAfEVdXOY09"
   },
   "outputs": [],
   "source": [
    "# Построение аналогичной модели с Dropout слоем\n",
    "model3_4 = tf.keras.Sequential([\n",
    "      keras.layers.Input(shape=(12,), name='in'),                   \n",
    "      keras.layers.Dense(units=24, activation='relu', name='dense_1'),\n",
    "      keras.layers.Dropout(0.05, name='dropout_1'),\n",
    "      keras.layers.Dense(units=24, activation='relu', name='dense_2'),\n",
    "      keras.layers.Dropout(0.05, name='dropout_2'),\n",
    "      keras.layers.Dense(units=24, activation='relu', name='dense_3'),\n",
    "      keras.layers.Dropout(0.05, name='dropout_3'),\n",
    "      keras.layers.Dense(units=24, activation='relu', name='dense_4'),\n",
    "      keras.layers.Dropout(0.05, name='dropout_4'),\n",
    "      keras.layers.Dense(units=24, activation='relu', name='dense_5'),\n",
    "      keras.layers.Dropout(0.05, name='dropout_5'),\n",
    "      keras.layers.Dense(units=24, activation='relu', name='dense_6'),\n",
    "      keras.layers.Dropout(0.05, name='dropout_6'),\n",
    "      keras.layers.Dense(units=24, activation='relu', name='dense_7'),\n",
    "      keras.layers.Dropout(0.05, name='dropout_7'),\n",
    "      keras.layers.Dense(units=24, activation='relu', name='dense_8'),\n",
    "      keras.layers.Dropout(0.05, name='dropout_8'),\n",
    "      keras.layers.Dense(units=1, name='out')                        \n",
    "    ])"
   ]
  },
  {
   "cell_type": "code",
   "execution_count": null,
   "id": "qVKB9a5-P0D2",
   "metadata": {
    "id": "qVKB9a5-P0D2"
   },
   "outputs": [],
   "source": [
    "# Компиляция модели\n",
    "model3_4 = compile_model(model3_4)"
   ]
  },
  {
   "cell_type": "code",
   "execution_count": null,
   "id": "05HiMFn_elTD",
   "metadata": {
    "colab": {
     "base_uri": "https://localhost:8080/"
    },
    "id": "05HiMFn_elTD",
    "outputId": "d01920e2-9d78-4c0d-8b8a-57583b01854f"
   },
   "outputs": [],
   "source": [
    "# Архитектура изменилась\n",
    "model3_4.summary()"
   ]
  },
  {
   "cell_type": "code",
   "execution_count": null,
   "id": "uXZgDbQqQNtu",
   "metadata": {
    "colab": {
     "base_uri": "https://localhost:8080/"
    },
    "id": "uXZgDbQqQNtu",
    "outputId": "e258d372-14bf-47ef-dd97-7b01c7ebde0a"
   },
   "outputs": [],
   "source": [
    "%%time\n",
    "#Обучение нейросети\n",
    "history = model3_4.fit(\n",
    "  x3_train, \n",
    "  y3_train, \n",
    "  epochs=50, \n",
    "  validation_split=0.3, \n",
    "  verbose=1\n",
    ")"
   ]
  },
  {
   "cell_type": "code",
   "execution_count": null,
   "id": "d0jpALHwQR7z",
   "metadata": {
    "colab": {
     "base_uri": "https://localhost:8080/",
     "height": 334
    },
    "id": "d0jpALHwQR7z",
    "outputId": "3922f2e5-c804-4bfd-aceb-a102d6ed0541"
   },
   "outputs": [],
   "source": [
    "plot_loss(history.history)"
   ]
  },
  {
   "cell_type": "code",
   "execution_count": null,
   "id": "oPL72-f3SByS",
   "metadata": {
    "colab": {
     "base_uri": "https://localhost:8080/"
    },
    "id": "oPL72-f3SByS",
    "outputId": "0d4fced9-eedb-4a09-cbac-71cb64a54d07"
   },
   "outputs": [],
   "source": [
    "# Проверяем точность нейросети на тестовых данных\n",
    "model3_4.evaluate(x3_test, y3_test)"
   ]
  },
  {
   "cell_type": "code",
   "execution_count": null,
   "id": "4f3eba77",
   "metadata": {
    "id": "4f3eba77"
   },
   "outputs": [],
   "source": [
    "# Предсказание \n",
    "y3_pred_keras4 = model3_4.predict(x3_test)"
   ]
  },
  {
   "cell_type": "code",
   "execution_count": null,
   "id": "-76i1XvDXMSr",
   "metadata": {
    "colab": {
     "base_uri": "https://localhost:8080/",
     "height": 265
    },
    "id": "-76i1XvDXMSr",
    "outputId": "889e9679-121b-48d9-deb2-09d2ef694115"
   },
   "outputs": [],
   "source": [
    "# Визуализация\n",
    "fig, ax = plt.subplots(figsize=(14, 4))\n",
    "ax.plot(y3_test, label='Данные')\n",
    "ax.plot(y3_pred_keras4, label='Нейросеть dropout')\n",
    "ax.plot(y3_pred_base, label='Базовая модель')\n",
    "ax.legend()\n",
    "plt.show()"
   ]
  },
  {
   "cell_type": "code",
   "execution_count": null,
   "id": "EKmgHEqelzgO",
   "metadata": {
    "colab": {
     "base_uri": "https://localhost:8080/",
     "height": 175
    },
    "id": "EKmgHEqelzgO",
    "outputId": "4a5a2190-2693-49f3-f8ef-bca11ace5af6"
   },
   "outputs": [],
   "source": [
    "# Сравнение предсказаний базовой модели и лучшей модели на тестовом множестве\n",
    "compare3_2 = get_metrics('DummyRegressor', y3_test, y3_pred_base)\n",
    "compare3_2 = compare3_2.append(get_metrics('Нейросеть переобученная', y3_test, y3_pred_keras2))\n",
    "compare3_2 = compare3_2.append(get_metrics('Нейросеть с ранней остановкой', y3_test, y3_pred_keras3))\n",
    "compare3_2 = compare3_2.append(get_metrics('Нейросеть dropout', y3_test, y3_pred_keras4))\n",
    "compare3_2"
   ]
  },
  {
   "cell_type": "markdown",
   "id": "L6gzdVBLmudx",
   "metadata": {
    "id": "L6gzdVBLmudx"
   },
   "source": [
    "Нейросеть из библиотеки tensorflow старалась подстроиться к данным. Выглядят результаты «похоже» и красиво, но метрики разочаровывают. Лучшая обобщающая спрособность и меньшие значения ошибок на тестовом множестве оказались у нейросети, обученной с ранней остановкой. Но она тоже предсказывает гораздо хуже базовой модели."
   ]
  },
  {
   "cell_type": "markdown",
   "id": "IKwPrnyKMpQP",
   "metadata": {
    "id": "IKwPrnyKMpQP"
   },
   "source": [
    "## Оценить точность модели на тренировочном и тестовом датасете"
   ]
  },
  {
   "cell_type": "code",
   "execution_count": null,
   "id": "fICfUBJoMoOr",
   "metadata": {
    "colab": {
     "base_uri": "https://localhost:8080/"
    },
    "id": "fICfUBJoMoOr",
    "outputId": "af58036e-f4bf-400d-91d9-74d441387001"
   },
   "outputs": [],
   "source": [
    "## Модель для модуля упругости при растяжении\n",
    "best_model1"
   ]
  },
  {
   "cell_type": "code",
   "execution_count": null,
   "id": "yeIHagAnMvqV",
   "metadata": {
    "colab": {
     "base_uri": "https://localhost:8080/",
     "height": 112
    },
    "id": "yeIHagAnMvqV",
    "outputId": "fb36a384-858c-4a45-a4b4-eb93afab9214"
   },
   "outputs": [],
   "source": [
    "result1 = pd.DataFrame()\n",
    "y1_pred_train = best_model1.predict(x1_train)\n",
    "result1 = pd.concat([result1, get_metrics('Модуль упругости, тренировочный', y1_train, y1_pred_train)])\n",
    "y1_pred_test = best_model1.predict(x1_test)\n",
    "result1 = pd.concat([result1, get_metrics('Модуль упругости, тестовый', y1_test, y1_pred_test)])\n",
    "result1"
   ]
  },
  {
   "cell_type": "markdown",
   "id": "DXeaVPEQVg35",
   "metadata": {
    "id": "DXeaVPEQVg35"
   },
   "source": [
    "Дерево решений имеет ошибку на тренировочном датасете меньше, чем на тестовом, потому что чему-то все-таки оно научилось. Но даже на тренировочном датасете оно не нашло закономерности во входных данных."
   ]
  },
  {
   "cell_type": "code",
   "execution_count": null,
   "id": "n9Hoar9IM4zk",
   "metadata": {
    "colab": {
     "base_uri": "https://localhost:8080/"
    },
    "id": "n9Hoar9IM4zk",
    "outputId": "fa00b91d-5755-4c29-b021-8438a3d06307"
   },
   "outputs": [],
   "source": [
    "## Модель для прочности при растяжении\n",
    "best_model2"
   ]
  },
  {
   "cell_type": "code",
   "execution_count": null,
   "id": "R_FM7jGRM4kz",
   "metadata": {
    "colab": {
     "base_uri": "https://localhost:8080/",
     "height": 112
    },
    "id": "R_FM7jGRM4kz",
    "outputId": "c9616b49-7023-400e-cd7f-4deaed9bcf5f"
   },
   "outputs": [],
   "source": [
    "result2 = pd.DataFrame()\n",
    "y2_pred_train = best_model2.predict(x2_train)\n",
    "result2 = pd.concat([result2, get_metrics('Прочность при растяжении, тренировочный', y2_train, y2_pred_train)])\n",
    "y2_pred_test = best_model2.predict(x2_test)\n",
    "result2 = pd.concat([result2, get_metrics('Прочность при растяжении, тестовый', y2_test, y2_pred_test)])\n",
    "result2"
   ]
  },
  {
   "cell_type": "markdown",
   "id": "waDjMOySVxwu",
   "metadata": {
    "id": "waDjMOySVxwu"
   },
   "source": [
    "Градиентный бустинг - это прекрасный метод, который показал положительный, хоть и близкий к 0 коэффициент детерминации. Ошибка на тестовом множестве незначительно больше, чем на тренировочном. Значит, модель нашла следы зависимости, а не выучила данные."
   ]
  },
  {
   "cell_type": "code",
   "execution_count": null,
   "id": "pZaPF3OkM4Yb",
   "metadata": {
    "colab": {
     "base_uri": "https://localhost:8080/"
    },
    "id": "pZaPF3OkM4Yb",
    "outputId": "f691a23e-b226-43b1-f707-cf424d51952b"
   },
   "outputs": [],
   "source": [
    "## Модель для соотношения матрица-наполнитель\n",
    "model3_3"
   ]
  },
  {
   "cell_type": "code",
   "execution_count": null,
   "id": "OMhc2KG4M4Lz",
   "metadata": {
    "colab": {
     "base_uri": "https://localhost:8080/",
     "height": 112
    },
    "id": "OMhc2KG4M4Lz",
    "outputId": "e726ddb7-0638-4ef2-c0c2-b5b46f781661"
   },
   "outputs": [],
   "source": [
    "result3 = pd.DataFrame()\n",
    "y3_pred_train = model3_3.predict(x3_train)\n",
    "result3 = pd.concat([result3, get_metrics('Соотношение матрица-наполнитель, тренировочный', y3_train, y3_pred_train)])\n",
    "y3_pred_test = model3_3.predict(x3_test)\n",
    "result3 = pd.concat([result3, get_metrics('Соотношение матрица-наполнитель, тестовый', y3_test, y3_pred_test)])\n",
    "result3"
   ]
  },
  {
   "cell_type": "markdown",
   "id": "XPGlMIH1WAc6",
   "metadata": {
    "id": "XPGlMIH1WAc6"
   },
   "source": [
    "У нейросети показатели для тестовой выборки сильнее отличаются в худшую сторону от показателей тренировочной. Она не нашла закономерностей, а стала учить данные из тестовой выборки."
   ]
  },
  {
   "cell_type": "markdown",
   "id": "d2ff587e",
   "metadata": {
    "id": "d2ff587e"
   },
   "source": [
    "## Разработать приложение \n",
    "\n",
    "Разработать приложение с графическим интерфейсом или интерфейсом командной строки, которое будет выдавать прогноз, полученный в задании 4 или 5 (один или два прогноза, на выбор учащегося)."
   ]
  },
  {
   "cell_type": "markdown",
   "id": "lhUPqF-WRiby",
   "metadata": {
    "id": "lhUPqF-WRiby"
   },
   "source": [
    "Решено разработать веб-приложение с помощью языка Python, фреймворка Flask и шаблонизатора Jinja."
   ]
  },
  {
   "cell_type": "markdown",
   "id": "x3fVmldKRqyE",
   "metadata": {
    "id": "x3fVmldKRqyE"
   },
   "source": [
    "Для использования в приложении обученных моделей их надо сохранить. Модели из библиотеки sklearn сохраняю с помощью pickle. Модели из библиотеки tensorflow имеют собственный механизм сохранения."
   ]
  },
  {
   "cell_type": "code",
   "execution_count": null,
   "id": "f90f77ef",
   "metadata": {
    "id": "f90f77ef"
   },
   "outputs": [],
   "source": [
    "def save_object_with_pickle(obj, obj_name):\n",
    "  filename = models_path + obj_name\n",
    "  file = open(filename, 'wb')\n",
    "  pickle.dump(obj, file)\n",
    "  file.close()"
   ]
  },
  {
   "cell_type": "code",
   "execution_count": null,
   "id": "X7ORc1XysBvj",
   "metadata": {
    "id": "X7ORc1XysBvj"
   },
   "outputs": [],
   "source": [
    "def load_object_with_pickle(obj_name):\n",
    "  filename = models_path + obj_name\n",
    "  file = open(filename, 'rb')\n",
    "  obj = pickle.load(file)\n",
    "  file.close()\n",
    "  return obj"
   ]
  },
  {
   "cell_type": "code",
   "execution_count": null,
   "id": "_cFkT5WVSjiR",
   "metadata": {
    "id": "_cFkT5WVSjiR"
   },
   "outputs": [],
   "source": [
    "save_object_with_pickle(preprocessor1, 'preprocessor1')"
   ]
  },
  {
   "cell_type": "code",
   "execution_count": null,
   "id": "045de38d",
   "metadata": {
    "id": "045de38d"
   },
   "outputs": [],
   "source": [
    "save_object_with_pickle(best_model1, 'model1_best')"
   ]
  },
  {
   "cell_type": "code",
   "execution_count": null,
   "id": "ChdXg8VbSlgm",
   "metadata": {
    "id": "ChdXg8VbSlgm"
   },
   "outputs": [],
   "source": [
    "save_object_with_pickle(preprocessor2, 'preprocessor2')"
   ]
  },
  {
   "cell_type": "code",
   "execution_count": null,
   "id": "a8a05a92",
   "metadata": {
    "id": "a8a05a92"
   },
   "outputs": [],
   "source": [
    "save_object_with_pickle(best_model2, 'model2_best')"
   ]
  },
  {
   "cell_type": "code",
   "execution_count": null,
   "id": "19b8b875",
   "metadata": {
    "id": "19b8b875"
   },
   "outputs": [],
   "source": [
    "save_object_with_pickle(preprocessor3, 'preprocessor3')"
   ]
  },
  {
   "cell_type": "code",
   "execution_count": null,
   "id": "df7072d1",
   "metadata": {
    "id": "df7072d1"
   },
   "outputs": [],
   "source": [
    "save_object_with_pickle(model3_1, 'model3_1')"
   ]
  },
  {
   "cell_type": "code",
   "execution_count": null,
   "id": "7mEp-hZqffWd",
   "metadata": {
    "colab": {
     "base_uri": "https://localhost:8080/"
    },
    "id": "7mEp-hZqffWd",
    "outputId": "35452b07-3121-4618-e3db-67a3c4146b81"
   },
   "outputs": [],
   "source": [
    "model3_2.save(models_path + '/model3_2/')"
   ]
  },
  {
   "cell_type": "code",
   "execution_count": null,
   "id": "AqAGFiC5fvHL",
   "metadata": {
    "colab": {
     "base_uri": "https://localhost:8080/"
    },
    "id": "AqAGFiC5fvHL",
    "outputId": "29e9316c-f1aa-41bc-c408-3ed3c9662990"
   },
   "outputs": [],
   "source": [
    "model3_3.save(models_path + '/model3_3/')"
   ]
  },
  {
   "cell_type": "code",
   "execution_count": null,
   "id": "PNXDrVOIgXsp",
   "metadata": {
    "colab": {
     "base_uri": "https://localhost:8080/"
    },
    "id": "PNXDrVOIgXsp",
    "outputId": "1cd29bcc-bafb-441a-8746-986294ef4077"
   },
   "outputs": [],
   "source": [
    "model3_4.save(models_path + '/model3_4/')"
   ]
  },
  {
   "cell_type": "code",
   "execution_count": null,
   "id": "UHMEc2vXsTIN",
   "metadata": {
    "id": "UHMEc2vXsTIN"
   },
   "outputs": [],
   "source": [
    "# Проверяю загрузку"
   ]
  },
  {
   "cell_type": "code",
   "execution_count": null,
   "id": "MIJQDiwdsbyA",
   "metadata": {
    "colab": {
     "base_uri": "https://localhost:8080/"
    },
    "id": "MIJQDiwdsbyA",
    "outputId": "fd633541-623b-4f30-8f30-736a9130d30d"
   },
   "outputs": [],
   "source": [
    "preprocessor1 = load_object_with_pickle('preprocessor1')\n",
    "best_model1 = load_object_with_pickle('model1_best')\n",
    "best_model1"
   ]
  },
  {
   "cell_type": "code",
   "execution_count": null,
   "id": "2EJNDX9JsnRH",
   "metadata": {
    "colab": {
     "base_uri": "https://localhost:8080/"
    },
    "id": "2EJNDX9JsnRH",
    "outputId": "1f385644-cf4d-481a-81d1-c9c6f4cf80c6"
   },
   "outputs": [],
   "source": [
    "preprocessor2 = load_object_with_pickle('preprocessor2')\n",
    "best_model2 = load_object_with_pickle('model2_best')\n",
    "best_model2"
   ]
  },
  {
   "cell_type": "code",
   "execution_count": null,
   "id": "Owd7o9ZJMPMY",
   "metadata": {
    "colab": {
     "base_uri": "https://localhost:8080/"
    },
    "id": "Owd7o9ZJMPMY",
    "outputId": "f343f0e9-9e53-4433-b747-59afa59745b0"
   },
   "outputs": [],
   "source": [
    "preprocessor3 = load_object_with_pickle('preprocessor3')\n",
    "model3_1 = load_object_with_pickle('model3_1')\n",
    "model3_1"
   ]
  },
  {
   "cell_type": "code",
   "execution_count": null,
   "id": "vcB8WX_TQoc3",
   "metadata": {
    "colab": {
     "base_uri": "https://localhost:8080/"
    },
    "id": "vcB8WX_TQoc3",
    "outputId": "cddff4ac-1d3f-4f95-e0d3-ba699dd12f08"
   },
   "outputs": [],
   "source": [
    "model3_2 = keras.models.load_model(models_path + '/model3_2/')\n",
    "model3_2"
   ]
  },
  {
   "cell_type": "code",
   "execution_count": null,
   "id": "8eurk1kASEQ7",
   "metadata": {
    "colab": {
     "base_uri": "https://localhost:8080/"
    },
    "id": "8eurk1kASEQ7",
    "outputId": "2264cd80-c512-4809-c332-cbf56ab492c9"
   },
   "outputs": [],
   "source": [
    "model3_3 = keras.models.load_model(models_path + '/model3_3/')\n",
    "model3_3"
   ]
  },
  {
   "cell_type": "code",
   "execution_count": null,
   "id": "MVBSPVn7SHkW",
   "metadata": {
    "colab": {
     "base_uri": "https://localhost:8080/"
    },
    "id": "MVBSPVn7SHkW",
    "outputId": "f4585812-4a73-4698-fd0b-9aac805286d1"
   },
   "outputs": [],
   "source": [
    "model3_4 = keras.models.load_model(models_path + '/model3_4/')\n",
    "model3_4"
   ]
  },
  {
   "cell_type": "code",
   "execution_count": null,
   "id": "aCtn4b6jS1ub",
   "metadata": {
    "id": "aCtn4b6jS1ub"
   },
   "outputs": [],
   "source": [
    "# Так как на моем компьютере старый процессор, библиотека tensorflow не заработала. \n",
    "# В приложение буду встраивать нейросеть, полученную с помощью MLPRegressor.\n",
    "# Она по метрикам хуже нейросети, полученной с помощью tensorflow,\n",
    "# но все они плохи.\n",
    "# Поэтому использую MLPRegressor и проверю работоспособность приложения"
   ]
  },
  {
   "cell_type": "code",
   "execution_count": null,
   "id": "441b4e96",
   "metadata": {
    "id": "441b4e96"
   },
   "outputs": [],
   "source": [
    "# Примеры для тестирования модели в приложении для задач 1 и 2"
   ]
  },
  {
   "cell_type": "code",
   "execution_count": null,
   "id": "945e4959",
   "metadata": {
    "colab": {
     "base_uri": "https://localhost:8080/"
    },
    "id": "945e4959",
    "outputId": "a2af306b-088e-4560-e7fc-a0025109193c"
   },
   "outputs": [],
   "source": [
    "# Вход\n",
    "x1.iloc[19, :].values.astype(str)"
   ]
  },
  {
   "cell_type": "code",
   "execution_count": null,
   "id": "1c6b1a52",
   "metadata": {
    "colab": {
     "base_uri": "https://localhost:8080/"
    },
    "id": "1c6b1a52",
    "outputId": "fd31177a-9a13-4bd6-ba04-b10ea258868f"
   },
   "outputs": [],
   "source": [
    "# Выход\n",
    "sample_x = preprocessor1.transform(x1.iloc[[19], :])\n",
    "best_model1.predict(sample_x)"
   ]
  },
  {
   "cell_type": "code",
   "execution_count": null,
   "id": "f83fce1d",
   "metadata": {
    "colab": {
     "base_uri": "https://localhost:8080/"
    },
    "id": "f83fce1d",
    "outputId": "7c24ac76-eb98-46cd-be38-dc1a8f974d3e"
   },
   "outputs": [],
   "source": [
    "# Вход\n",
    "x2.iloc[19, :].values.astype(str)"
   ]
  },
  {
   "cell_type": "code",
   "execution_count": null,
   "id": "9af90140",
   "metadata": {
    "colab": {
     "base_uri": "https://localhost:8080/"
    },
    "id": "9af90140",
    "outputId": "f7affb3b-bac5-428e-fa64-0c9df250d4dc"
   },
   "outputs": [],
   "source": [
    "# Выход\n",
    "sample_x = preprocessor2.transform(x2.iloc[[19], :])\n",
    "best_model2.predict(sample_x)"
   ]
  },
  {
   "cell_type": "code",
   "execution_count": null,
   "id": "82ba3214",
   "metadata": {
    "id": "82ba3214"
   },
   "outputs": [],
   "source": []
  },
  {
   "cell_type": "code",
   "execution_count": null,
   "id": "f8574ad9",
   "metadata": {
    "id": "f8574ad9"
   },
   "outputs": [],
   "source": [
    "# Примеры для тестирования модели в приложении для задачи 3"
   ]
  },
  {
   "cell_type": "code",
   "execution_count": null,
   "id": "5534b536",
   "metadata": {
    "colab": {
     "base_uri": "https://localhost:8080/"
    },
    "id": "5534b536",
    "outputId": "bb5f4470-d039-452e-d322-e5de694a7c2b"
   },
   "outputs": [],
   "source": [
    "# Вход\n",
    "x3.iloc[19, :].values.astype(str)"
   ]
  },
  {
   "cell_type": "code",
   "execution_count": null,
   "id": "3024a729",
   "metadata": {
    "colab": {
     "base_uri": "https://localhost:8080/"
    },
    "id": "3024a729",
    "outputId": "e26e917f-fda1-4243-b3a6-d8876ecf6ee1"
   },
   "outputs": [],
   "source": [
    "# Выход\n",
    "sample_x = preprocessor3.transform(x3.iloc[[19], :])\n",
    "model3_1.predict(sample_x)"
   ]
  },
  {
   "cell_type": "code",
   "execution_count": null,
   "id": "c121fbb5",
   "metadata": {
    "id": "c121fbb5"
   },
   "outputs": [],
   "source": []
  },
  {
   "cell_type": "code",
   "execution_count": null,
   "id": "1cAQxUb8b0bw",
   "metadata": {
    "id": "1cAQxUb8b0bw"
   },
   "outputs": [],
   "source": []
  }
 ],
 "metadata": {
  "colab": {
   "collapsed_sections": [],
   "name": "research.ipynb",
   "provenance": [],
   "toc_visible": true
  },
  "kernelspec": {
   "display_name": "Python 3 (ipykernel)",
   "language": "python",
   "name": "python3"
  },
  "language_info": {
   "codemirror_mode": {
    "name": "ipython",
    "version": 3
   },
   "file_extension": ".py",
   "mimetype": "text/x-python",
   "name": "python",
   "nbconvert_exporter": "python",
   "pygments_lexer": "ipython3",
   "version": "3.8.13"
  }
 },
 "nbformat": 4,
 "nbformat_minor": 5
}
