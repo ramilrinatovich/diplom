{
 "nbformat": 4,
 "nbformat_minor": 0,
 "metadata": {
  "colab": {
   "provenance": [],
   "collapsed_sections": [],
   "authorship_tag": "ABX9TyN2YcfmbCKJ6bvYA6tokHnI"
  },
  "kernelspec": {
   "name": "python3",
   "display_name": "Python 3"
  },
  "language_info": {
   "name": "python"
  }
 },
 "cells": [
  {
   "cell_type": "code",
   "execution_count": 5,
   "metadata": {
    "id": "yNYMgbrfFvAo",
    "executionInfo": {
     "status": "ok",
     "timestamp": 1667129820171,
     "user_tz": -180,
     "elapsed": 3277,
     "user": {
      "displayName": "Хиз Хиз",
      "userId": "06243006373042086751"
     }
    }
   },
   "outputs": [],
   "source": [
    "#Импорт необходимых библиотек\n",
    "import tensorflow as tf\n",
    "from tensorflow import keras\n",
    "from keras.datasets import mnist\n",
    "from keras import layers as layers\n",
    "from keras.utils import plot_model\n",
    "from keras import Sequential\n",
    "from keras.optimizers import Adam\n",
    "# библиотека для вывода изображений\n",
    "from matplotlib import pyplot as plt\n",
    "%matplotlib inline"
   ]
  },
  {
   "cell_type": "code",
   "source": [
    "# загружаем тренировочные и тестовые данные\n",
    "(X_train, y_train), (X_test, y_test) = mnist.load_data()"
   ],
   "metadata": {
    "id": "wCKpdJXzGSEW",
    "executionInfo": {
     "status": "ok",
     "timestamp": 1667129857940,
     "user_tz": -180,
     "elapsed": 795,
     "user": {
      "displayName": "Хиз Хиз",
      "userId": "06243006373042086751"
     }
    },
    "colab": {
     "base_uri": "https://localhost:8080/"
    },
    "outputId": "10bf274a-7500-4099-e01f-4f0f3a6c25eb"
   },
   "execution_count": 2,
   "outputs": []
  },
  {
   "cell_type": "code",
   "source": [
    "# Узнаем длины полученных массивов\n",
    "print(len(X_train), len(y_train), len(X_test), len(y_test))"
   ],
   "metadata": {
    "colab": {
     "base_uri": "https://localhost:8080/"
    },
    "id": "rLstAXNXGi3D",
    "executionInfo": {
     "status": "ok",
     "timestamp": 1667129868626,
     "user_tz": -180,
     "elapsed": 287,
     "user": {
      "displayName": "Хиз Хиз",
      "userId": "06243006373042086751"
     }
    },
    "outputId": "6f381cd7-e2a4-4ff0-cc9e-993dba663bb6"
   },
   "execution_count": 3,
   "outputs": [
    {
     "name": "stdout",
     "output_type": "stream",
     "text": [
      "60000 60000 10000 10000\n"
     ]
    }
   ]
  },
  {
   "cell_type": "code",
   "source": [
    "# Проверка типа и размера данных\n",
    "print(X_train[0].shape,X_train[0].dtype)"
   ],
   "metadata": {
    "colab": {
     "base_uri": "https://localhost:8080/"
    },
    "id": "aF0RceUTGlrm",
    "executionInfo": {
     "status": "ok",
     "timestamp": 1667129872030,
     "user_tz": -180,
     "elapsed": 283,
     "user": {
      "displayName": "Хиз Хиз",
      "userId": "06243006373042086751"
     }
    },
    "outputId": "8061fb1b-079f-4b84-adc7-d0e007482bc3"
   },
   "execution_count": 4,
   "outputs": [
    {
     "name": "stdout",
     "output_type": "stream",
     "text": [
      "(28, 28) uint8\n"
     ]
    }
   ]
  },
  {
   "cell_type": "code",
   "source": [
    "# Выведем первый элемент массива на экран\n",
    "print(X_train[0])"
   ],
   "metadata": {
    "colab": {
     "base_uri": "https://localhost:8080/"
    },
    "id": "A4Gte3lSG-gZ",
    "executionInfo": {
     "status": "ok",
     "timestamp": 1667129876588,
     "user_tz": -180,
     "elapsed": 326,
     "user": {
      "displayName": "Хиз Хиз",
      "userId": "06243006373042086751"
     }
    },
    "outputId": "9e0685cf-14d4-4010-dabf-a8e27b8511bf"
   },
   "execution_count": 5,
   "outputs": [
    {
     "name": "stdout",
     "output_type": "stream",
     "text": [
      "[[  0   0   0   0   0   0   0   0   0   0   0   0   0   0   0   0   0   0\n",
      "    0   0   0   0   0   0   0   0   0   0]\n",
      " [  0   0   0   0   0   0   0   0   0   0   0   0   0   0   0   0   0   0\n",
      "    0   0   0   0   0   0   0   0   0   0]\n",
      " [  0   0   0   0   0   0   0   0   0   0   0   0   0   0   0   0   0   0\n",
      "    0   0   0   0   0   0   0   0   0   0]\n",
      " [  0   0   0   0   0   0   0   0   0   0   0   0   0   0   0   0   0   0\n",
      "    0   0   0   0   0   0   0   0   0   0]\n",
      " [  0   0   0   0   0   0   0   0   0   0   0   0   0   0   0   0   0   0\n",
      "    0   0   0   0   0   0   0   0   0   0]\n",
      " [  0   0   0   0   0   0   0   0   0   0   0   0   3  18  18  18 126 136\n",
      "  175  26 166 255 247 127   0   0   0   0]\n",
      " [  0   0   0   0   0   0   0   0  30  36  94 154 170 253 253 253 253 253\n",
      "  225 172 253 242 195  64   0   0   0   0]\n",
      " [  0   0   0   0   0   0   0  49 238 253 253 253 253 253 253 253 253 251\n",
      "   93  82  82  56  39   0   0   0   0   0]\n",
      " [  0   0   0   0   0   0   0  18 219 253 253 253 253 253 198 182 247 241\n",
      "    0   0   0   0   0   0   0   0   0   0]\n",
      " [  0   0   0   0   0   0   0   0  80 156 107 253 253 205  11   0  43 154\n",
      "    0   0   0   0   0   0   0   0   0   0]\n",
      " [  0   0   0   0   0   0   0   0   0  14   1 154 253  90   0   0   0   0\n",
      "    0   0   0   0   0   0   0   0   0   0]\n",
      " [  0   0   0   0   0   0   0   0   0   0   0 139 253 190   2   0   0   0\n",
      "    0   0   0   0   0   0   0   0   0   0]\n",
      " [  0   0   0   0   0   0   0   0   0   0   0  11 190 253  70   0   0   0\n",
      "    0   0   0   0   0   0   0   0   0   0]\n",
      " [  0   0   0   0   0   0   0   0   0   0   0   0  35 241 225 160 108   1\n",
      "    0   0   0   0   0   0   0   0   0   0]\n",
      " [  0   0   0   0   0   0   0   0   0   0   0   0   0  81 240 253 253 119\n",
      "   25   0   0   0   0   0   0   0   0   0]\n",
      " [  0   0   0   0   0   0   0   0   0   0   0   0   0   0  45 186 253 253\n",
      "  150  27   0   0   0   0   0   0   0   0]\n",
      " [  0   0   0   0   0   0   0   0   0   0   0   0   0   0   0  16  93 252\n",
      "  253 187   0   0   0   0   0   0   0   0]\n",
      " [  0   0   0   0   0   0   0   0   0   0   0   0   0   0   0   0   0 249\n",
      "  253 249  64   0   0   0   0   0   0   0]\n",
      " [  0   0   0   0   0   0   0   0   0   0   0   0   0   0  46 130 183 253\n",
      "  253 207   2   0   0   0   0   0   0   0]\n",
      " [  0   0   0   0   0   0   0   0   0   0   0   0  39 148 229 253 253 253\n",
      "  250 182   0   0   0   0   0   0   0   0]\n",
      " [  0   0   0   0   0   0   0   0   0   0  24 114 221 253 253 253 253 201\n",
      "   78   0   0   0   0   0   0   0   0   0]\n",
      " [  0   0   0   0   0   0   0   0  23  66 213 253 253 253 253 198  81   2\n",
      "    0   0   0   0   0   0   0   0   0   0]\n",
      " [  0   0   0   0   0   0  18 171 219 253 253 253 253 195  80   9   0   0\n",
      "    0   0   0   0   0   0   0   0   0   0]\n",
      " [  0   0   0   0  55 172 226 253 253 253 253 244 133  11   0   0   0   0\n",
      "    0   0   0   0   0   0   0   0   0   0]\n",
      " [  0   0   0   0 136 253 253 253 212 135 132  16   0   0   0   0   0   0\n",
      "    0   0   0   0   0   0   0   0   0   0]\n",
      " [  0   0   0   0   0   0   0   0   0   0   0   0   0   0   0   0   0   0\n",
      "    0   0   0   0   0   0   0   0   0   0]\n",
      " [  0   0   0   0   0   0   0   0   0   0   0   0   0   0   0   0   0   0\n",
      "    0   0   0   0   0   0   0   0   0   0]\n",
      " [  0   0   0   0   0   0   0   0   0   0   0   0   0   0   0   0   0   0\n",
      "    0   0   0   0   0   0   0   0   0   0]]\n"
     ]
    }
   ]
  },
  {
   "cell_type": "code",
   "source": [
    "print(y_train[0])"
   ],
   "metadata": {
    "colab": {
     "base_uri": "https://localhost:8080/"
    },
    "id": "BsQ9g6smHEAx",
    "executionInfo": {
     "status": "ok",
     "timestamp": 1667129881319,
     "user_tz": -180,
     "elapsed": 307,
     "user": {
      "displayName": "Хиз Хиз",
      "userId": "06243006373042086751"
     }
    },
    "outputId": "72ac13e9-6b56-4506-e09b-705fdfe7e03b"
   },
   "execution_count": 6,
   "outputs": [
    {
     "name": "stdout",
     "output_type": "stream",
     "text": [
      "5\n"
     ]
    }
   ]
  },
  {
   "cell_type": "code",
   "source": [
    "# Выведем на экран хранящееся в X_train[0] изображение\n",
    "plt.imshow(X_train[0], cmap='binary')\n",
    "plt.axis('off')"
   ],
   "metadata": {
    "colab": {
     "base_uri": "https://localhost:8080/",
     "height": 266
    },
    "id": "CoP_7eXpHJ2K",
    "executionInfo": {
     "status": "ok",
     "timestamp": 1667129884967,
     "user_tz": -180,
     "elapsed": 304,
     "user": {
      "displayName": "Хиз Хиз",
      "userId": "06243006373042086751"
     }
    },
    "outputId": "c08a4979-ab71-402a-9299-fe73e5808d9a"
   },
   "execution_count": 7,
   "outputs": [
    {
     "data": {
      "text/plain": "(-0.5, 27.5, 27.5, -0.5)"
     },
     "execution_count": 7,
     "metadata": {},
     "output_type": "execute_result"
    },
    {
     "data": {
      "text/plain": "<Figure size 640x480 with 1 Axes>",
      "image/png": "[encoded data removed]"
     },
     "metadata": {},
     "output_type": "display_data"
    }
   ]
  },
  {
   "cell_type": "code",
   "source": [
    "# Преобразование данных в матрицах изображений\n",
    "# X_train.max() возвращает значение 255\n",
    "X_train = X_train/X_train.max()\n",
    "X_test = X_test/X_test.max()"
   ],
   "metadata": {
    "id": "L7pMqZ_YHQo9",
    "executionInfo": {
     "status": "ok",
     "timestamp": 1667129889125,
     "user_tz": -180,
     "elapsed": 320,
     "user": {
      "displayName": "Хиз Хиз",
      "userId": "06243006373042086751"
     }
    }
   },
   "execution_count": 8,
   "outputs": []
  },
  {
   "cell_type": "markdown",
   "source": [],
   "metadata": {
    "collapsed": false
   }
  },
  {
   "cell_type": "code",
   "source": [
    "# Преобразуем целевые значения методом «one-hot encoding»\n",
    "y_train = keras.utils.to_categorical(y_train, 10)\n",
    "y_test = keras.utils.to_categorical(y_test, 10)"
   ],
   "metadata": {
    "id": "eh7AQ4LyHZea",
    "executionInfo": {
     "status": "ok",
     "timestamp": 1667129892893,
     "user_tz": -180,
     "elapsed": 311,
     "user": {
      "displayName": "Хиз Хиз",
      "userId": "06243006373042086751"
     }
    }
   },
   "execution_count": 9,
   "outputs": []
  },
  {
   "cell_type": "code",
   "source": [
    "# Создаем модель\n",
    "model = Sequential([\n",
    "    # Добавляем полносвязный слой с 128 узлами к модели:\n",
    "    layers.Dense(128, name=\"Dense_1\", activation='relu',input_shape=X_train[0].shape),\n",
    "    # Добавляем еще один полносвязный слой с 128 узлами к модели:\n",
    "    layers.Dense(128, name=\"Dense_2\", activation='relu'),\n",
    "    layers.Flatten(),\n",
    "    # Добавляем выходной слой к модели.\n",
    "    layers.Dense(10, name=\"Dense_3\", activation='softmax')\n",
    "]) \n",
    "# Выведем полученную модель на экран\n",
    "model.summary()"
   ],
   "metadata": {
    "colab": {
     "base_uri": "https://localhost:8080/"
    },
    "id": "hd4sokUBHibK",
    "executionInfo": {
     "status": "ok",
     "timestamp": 1667129970083,
     "user_tz": -180,
     "elapsed": 437,
     "user": {
      "displayName": "Хиз Хиз",
      "userId": "06243006373042086751"
     }
    },
    "outputId": "dc60bf02-8d54-422a-b6d1-92f182faebed"
   },
   "execution_count": 10,
   "outputs": [
    {
     "name": "stdout",
     "output_type": "stream",
     "text": [
      "Model: \"sequential\"\n",
      "_________________________________________________________________\n",
      " Layer (type)                Output Shape              Param #   \n",
      "=================================================================\n",
      " Dense_1 (Dense)             (None, 28, 128)           3712      \n",
      "                                                                 \n",
      " Dense_2 (Dense)             (None, 28, 128)           16512     \n",
      "                                                                 \n",
      " flatten (Flatten)           (None, 3584)              0         \n",
      "                                                                 \n",
      " Dense_3 (Dense)             (None, 10)                35850     \n",
      "                                                                 \n",
      "=================================================================\n",
      "Total params: 56,074\n",
      "Trainable params: 56,074\n",
      "Non-trainable params: 0\n",
      "_________________________________________________________________\n"
     ]
    }
   ]
  },
  {
   "cell_type": "code",
   "source": [
    "#Указываем конфигурацию обучения (вид оптимизатора, потери, метрики):\n",
    "model.compile(loss='binary_crossentropy',\n",
    "            optimizer = Adam(lr=0.00024),\n",
    "             metrics = ['binary_accuracy'])"
   ],
   "metadata": {
    "colab": {
     "base_uri": "https://localhost:8080/"
    },
    "id": "gQtIg7z_QTEO",
    "executionInfo": {
     "status": "ok",
     "timestamp": 1666961103380,
     "user_tz": -180,
     "elapsed": 466,
     "user": {
      "displayName": "Хиз Хиз",
      "userId": "06243006373042086751"
     }
    },
    "outputId": "b8c38299-f429-4ab1-b44e-8c8373192055"
   },
   "execution_count": 11,
   "outputs": [
    {
     "name": "stderr",
     "output_type": "stream",
     "text": [
      "C:\\Users\\ramil\\anaconda3\\lib\\site-packages\\keras\\optimizers\\optimizer_v2\\adam.py:114: UserWarning: The `lr` argument is deprecated, use `learning_rate` instead.\n",
      "  super().__init__(name, **kwargs)\n"
     ]
    }
   ]
  },
  {
   "cell_type": "code",
   "source": [
    "# Функция ранней остановки\n",
    "stop = tf.keras.callbacks.EarlyStopping(monitor='val_loss', verbose=1, patience=6)"
   ],
   "metadata": {
    "id": "lGyzeA0aSN9g"
   },
   "execution_count": 12,
   "outputs": []
  },
  {
   "cell_type": "code",
   "source": [
    "# Запускаем обучение модели (разбивая данные на «партии» размером batch_size, задаем количество эпох, долю данных для проверки 0.2 - 20% от всего массива.)\n",
    "history = model.fit(X_train, y_train, batch_size=500, verbose=1,\n",
    "                    epochs= 4, validation_split = 0.2, callbacks=[stop])"
   ],
   "metadata": {
    "colab": {
     "base_uri": "https://localhost:8080/"
    },
    "id": "xU6ncb0rSU4a",
    "executionInfo": {
     "status": "ok",
     "timestamp": 1666961161618,
     "user_tz": -180,
     "elapsed": 51643,
     "user": {
      "displayName": "Хиз Хиз",
      "userId": "06243006373042086751"
     }
    },
    "outputId": "61affc49-f5a3-4746-88c3-7b1e37bef96b"
   },
   "execution_count": 13,
   "outputs": [
    {
     "name": "stdout",
     "output_type": "stream",
     "text": [
      "Epoch 1/4\n",
      "96/96 [==============================] - 3s 25ms/step - loss: 0.3416 - binary_accuracy: 0.9013 - val_loss: 0.2178 - val_binary_accuracy: 0.9149\n",
      "Epoch 2/4\n",
      "96/96 [==============================] - 2s 23ms/step - loss: 0.1454 - binary_accuracy: 0.9562 - val_loss: 0.0972 - val_binary_accuracy: 0.9752\n",
      "Epoch 3/4\n",
      "96/96 [==============================] - 2s 23ms/step - loss: 0.0893 - binary_accuracy: 0.9755 - val_loss: 0.0749 - val_binary_accuracy: 0.9801\n",
      "Epoch 4/4\n",
      "96/96 [==============================] - 2s 24ms/step - loss: 0.0742 - binary_accuracy: 0.9798 - val_loss: 0.0655 - val_binary_accuracy: 0.9826\n"
     ]
    }
   ]
  },
  {
   "cell_type": "code",
   "source": [
    "# Предсказываем результат для тестовой выборки\n",
    "pred = model.predict(X_test)"
   ],
   "metadata": {
    "colab": {
     "base_uri": "https://localhost:8080/"
    },
    "id": "naPJ3iEXTfzu",
    "executionInfo": {
     "status": "ok",
     "timestamp": 1666961183629,
     "user_tz": -180,
     "elapsed": 1964,
     "user": {
      "displayName": "Хиз Хиз",
      "userId": "06243006373042086751"
     }
    },
    "outputId": "97f03f6e-b3e5-4243-bc74-bdfcac40c9c0"
   },
   "execution_count": 14,
   "outputs": [
    {
     "name": "stdout",
     "output_type": "stream",
     "text": [
      "313/313 [==============================] - 1s 2ms/step\n"
     ]
    }
   ]
  },
  {
   "cell_type": "code",
   "source": [
    "print(pred[0])"
   ],
   "metadata": {
    "colab": {
     "base_uri": "https://localhost:8080/"
    },
    "id": "FQ1hqgjcTmpp",
    "executionInfo": {
     "status": "ok",
     "timestamp": 1666961187487,
     "user_tz": -180,
     "elapsed": 424,
     "user": {
      "displayName": "Хиз Хиз",
      "userId": "06243006373042086751"
     }
    },
    "outputId": "21993536-8e91-4916-cd53-50fe448e4d03"
   },
   "execution_count": 15,
   "outputs": [
    {
     "name": "stdout",
     "output_type": "stream",
     "text": [
      "[5.5874699e-07 2.6868545e-08 1.1997132e-06 4.1582633e-05 1.2290113e-07\n",
      " 3.3276842e-06 1.0896014e-08 9.9994338e-01 9.0164896e-08 9.7186376e-06]\n"
     ]
    }
   ]
  },
  {
   "cell_type": "code",
   "source": [
    "plt.imshow(X_test[4], cmap='binary')\n",
    "plt.axis('off')"
   ],
   "metadata": {
    "colab": {
     "base_uri": "https://localhost:8080/",
     "height": 266
    },
    "id": "d5sQMSufTt9p",
    "executionInfo": {
     "status": "ok",
     "timestamp": 1666961206055,
     "user_tz": -180,
     "elapsed": 445,
     "user": {
      "displayName": "Хиз Хиз",
      "userId": "06243006373042086751"
     }
    },
    "outputId": "d3b87c03-8ce3-47a0-b7ac-bceec3fb3010"
   },
   "execution_count": 16,
   "outputs": [
    {
     "data": {
      "text/plain": "(-0.5, 27.5, 27.5, -0.5)"
     },
     "execution_count": 16,
     "metadata": {},
     "output_type": "execute_result"
    },
    {
     "data": {
      "text/plain": "<Figure size 640x480 with 1 Axes>",
      "image/png": "[encoded data removed]"
     },
     "metadata": {},
     "output_type": "display_data"
    }
   ]
  },
  {
   "cell_type": "code",
   "source": [
    "# plot graph\n",
    "plot_model(model, to_file='multiple_outputs.png')"
   ],
   "metadata": {
    "colab": {
     "base_uri": "https://localhost:8080/",
     "height": 564
    },
    "id": "PcoMy91RVrAm",
    "executionInfo": {
     "status": "ok",
     "timestamp": 1666961210178,
     "user_tz": -180,
     "elapsed": 465,
     "user": {
      "displayName": "Хиз Хиз",
      "userId": "06243006373042086751"
     }
    },
    "outputId": "a6138b1c-431e-4e68-a327-58e6cd7b87e3"
   },
   "execution_count": 17,
   "outputs": [
    {
     "name": "stdout",
     "output_type": "stream",
     "text": [
      "You must install pydot (`pip install pydot`) and install graphviz (see instructions at https://graphviz.gitlab.io/download/) for plot_model to work.\n"
     ]
    }
   ]
  },
  {
   "cell_type": "code",
   "execution_count": 17,
   "outputs": [],
   "source": [],
   "metadata": {
    "collapsed": false
   }
  }
 ]
}
